{
 "cells": [
  {
   "cell_type": "code",
   "execution_count": 185,
   "metadata": {},
   "outputs": [],
   "source": [
    "import numpy as np\n",
    "import pandas as pd\n",
    "import matplotlib.pyplot as plt\n",
    "import random\n",
    "from tkinter import E\n",
    "\n",
    "# import Data miners 2022 (answers).csv from the same directory as this file and create a dataframe called df\n",
    "df = pd.read_csv('Data miners 2022 (answers).csv')\n",
    "\n",
    "#change Your height (in International inches)\\nAlready, an awkward data storage format. It's good to be fluent in multiple systems! to height\n",
    "df = df.rename(columns={'Your height (in International inches)\\nAlready, an awkward data storage format. It\\'s good to be fluent in multiple systems!':'height'})\n",
    "#change Your mean shoe size (In European Continental system)\tto shoe_size\n",
    "df = df.rename(columns={'Your mean shoe size (In European Continental system)':'shoe_size'})\n",
    "\n",
    "# Assign all points to class 0\n",
    "df['class'] = 0\n",
    "\n",
    "#remove all columns but shoe_size, height, and class\n",
    "df = df[['shoe_size', 'height', 'class']]\n",
    "\n",
    "#remove observations that are 3 standard deviations from the mean\n",
    "df = df[(np.abs(df.height-df.height.mean()) <= (3*df.height.std())) & (np.abs(df.shoe_size-df.shoe_size.mean()) <= (3*df.shoe_size.std()))]\n",
    "\n",
    "#normalize the data\n",
    "df['height'] = df['height'] / max(df['height']) \n",
    "df['shoe_size'] = df['shoe_size'] / max(df['shoe_size']) \n",
    "\n",
    "\n"
   ]
  },
  {
   "cell_type": "code",
   "execution_count": 186,
   "metadata": {},
   "outputs": [
    {
     "data": {
      "image/png": "[encoded data removed]",
      "text/plain": [
       "<Figure size 432x288 with 1 Axes>"
      ]
     },
     "metadata": {
      "needs_background": "light"
     },
     "output_type": "display_data"
    }
   ],
   "source": [
    "plt.title('Scatter plot of the Distribution of data')\n",
    "plt.scatter(df['height'],df['shoe_size']) # Visualizing the distribution\n",
    "plt.show()"
   ]
  },
  {
   "cell_type": "code",
   "execution_count": 187,
   "metadata": {},
   "outputs": [],
   "source": [
    "def initializeMeans(df):\n",
    "    \n",
    "    # Randomly initialize the means\n",
    "    mean1 = df.iloc[random.randint(0,len(df)-1)]\n",
    "    mean2 = df.iloc[random.randint(0,len(df)-1)]\n",
    "    mean3 = df.iloc[random.randint(0,len(df)-1)]\n",
    "\n",
    "    return mean1, mean2, mean3"
   ]
  },
  {
   "cell_type": "code",
   "execution_count": 188,
   "metadata": {},
   "outputs": [
    {
     "name": "stderr",
     "output_type": "stream",
     "text": [
      "/var/folders/jt/qjvfxd317_s79391s2jnf0w40000gn/T/ipykernel_8019/3358861113.py:14: SettingWithCopyWarning: \n",
      "A value is trying to be set on a copy of a slice from a DataFrame\n",
      "\n",
      "See the caveats in the documentation: https://pandas.pydata.org/pandas-docs/stable/user_guide/indexing.html#returning-a-view-versus-a-copy\n",
      "  df['class'][pointIDX] = 3\n"
     ]
    }
   ],
   "source": [
    "\n",
    "def euclideanDist(df,pointIDX,mean1,mean2, mean3):\n",
    "\n",
    "    # Calculate the euclidean distance between the point and the two means\n",
    "    dist1 = np.sqrt((df.iloc[pointIDX]['shoe_size'] - mean1['shoe_size'])**2 + (df.iloc[pointIDX]['height'] - mean1['height'])**2)\n",
    "    dist2 = np.sqrt((df.iloc[pointIDX]['shoe_size'] - mean2['shoe_size'])**2 + (df.iloc[pointIDX]['height'] - mean2['height'])**2)\n",
    "    dist3 = np.sqrt((df.iloc[pointIDX]['shoe_size'] - mean2['shoe_size'])**2 + (df.iloc[pointIDX]['height'] - mean3['height'])**2)\n",
    "    \n",
    "    # Assign the point to the mean with the smallest distance\n",
    "    if dist1 < dist2 and dist1 < dist3:\n",
    "        df['class'][pointIDX] = 1\n",
    "    elif dist2 < dist1 and dist2 < dist3:\n",
    "        df['class'][pointIDX] = 2\n",
    "    else:\n",
    "        df['class'][pointIDX] = 3\n",
    "    return df\n",
    "\n",
    "m1, m2, m3 = initializeMeans(df)\n",
    "b = euclideanDist(df, 5, m1,m2,m3)"
   ]
  },
  {
   "cell_type": "code",
   "execution_count": 189,
   "metadata": {},
   "outputs": [],
   "source": [
    "def updateMean(df):\n",
    "    #function calculates the mean of the points in each class\n",
    "\n",
    "    mean1 = df.loc[df['class']==1].mean()\n",
    "    mean2 = df.loc[df['class']==2].mean()\n",
    "    mean3 = df.loc[df['class']==3].mean()\n",
    "    \n",
    "    return mean1, mean2, mean3"
   ]
  },
  {
   "cell_type": "code",
   "execution_count": 190,
   "metadata": {},
   "outputs": [
    {
     "name": "stdout",
     "output_type": "stream",
     "text": [
      "Iteration 0/0\n"
     ]
    },
    {
     "name": "stderr",
     "output_type": "stream",
     "text": [
      "/var/folders/jt/qjvfxd317_s79391s2jnf0w40000gn/T/ipykernel_8019/3358861113.py:10: SettingWithCopyWarning: \n",
      "A value is trying to be set on a copy of a slice from a DataFrame\n",
      "\n",
      "See the caveats in the documentation: https://pandas.pydata.org/pandas-docs/stable/user_guide/indexing.html#returning-a-view-versus-a-copy\n",
      "  df['class'][pointIDX] = 1\n",
      "/var/folders/jt/qjvfxd317_s79391s2jnf0w40000gn/T/ipykernel_8019/3358861113.py:12: SettingWithCopyWarning: \n",
      "A value is trying to be set on a copy of a slice from a DataFrame\n",
      "\n",
      "See the caveats in the documentation: https://pandas.pydata.org/pandas-docs/stable/user_guide/indexing.html#returning-a-view-versus-a-copy\n",
      "  df['class'][pointIDX] = 2\n",
      "/var/folders/jt/qjvfxd317_s79391s2jnf0w40000gn/T/ipykernel_8019/3358861113.py:14: SettingWithCopyWarning: \n",
      "A value is trying to be set on a copy of a slice from a DataFrame\n",
      "\n",
      "See the caveats in the documentation: https://pandas.pydata.org/pandas-docs/stable/user_guide/indexing.html#returning-a-view-versus-a-copy\n",
      "  df['class'][pointIDX] = 3\n",
      "/var/folders/jt/qjvfxd317_s79391s2jnf0w40000gn/T/ipykernel_8019/3358861113.py:10: SettingWithCopyWarning: \n",
      "A value is trying to be set on a copy of a slice from a DataFrame\n",
      "\n",
      "See the caveats in the documentation: https://pandas.pydata.org/pandas-docs/stable/user_guide/indexing.html#returning-a-view-versus-a-copy\n",
      "  df['class'][pointIDX] = 1\n",
      "/var/folders/jt/qjvfxd317_s79391s2jnf0w40000gn/T/ipykernel_8019/3358861113.py:12: SettingWithCopyWarning: \n",
      "A value is trying to be set on a copy of a slice from a DataFrame\n",
      "\n",
      "See the caveats in the documentation: https://pandas.pydata.org/pandas-docs/stable/user_guide/indexing.html#returning-a-view-versus-a-copy\n",
      "  df['class'][pointIDX] = 2\n",
      "/var/folders/jt/qjvfxd317_s79391s2jnf0w40000gn/T/ipykernel_8019/3358861113.py:14: SettingWithCopyWarning: \n",
      "A value is trying to be set on a copy of a slice from a DataFrame\n",
      "\n",
      "See the caveats in the documentation: https://pandas.pydata.org/pandas-docs/stable/user_guide/indexing.html#returning-a-view-versus-a-copy\n",
      "  df['class'][pointIDX] = 3\n"
     ]
    },
    {
     "name": "stdout",
     "output_type": "stream",
     "text": [
      "Iteration 1/1\n"
     ]
    },
    {
     "name": "stderr",
     "output_type": "stream",
     "text": [
      "/var/folders/jt/qjvfxd317_s79391s2jnf0w40000gn/T/ipykernel_8019/3358861113.py:14: SettingWithCopyWarning: \n",
      "A value is trying to be set on a copy of a slice from a DataFrame\n",
      "\n",
      "See the caveats in the documentation: https://pandas.pydata.org/pandas-docs/stable/user_guide/indexing.html#returning-a-view-versus-a-copy\n",
      "  df['class'][pointIDX] = 3\n",
      "/var/folders/jt/qjvfxd317_s79391s2jnf0w40000gn/T/ipykernel_8019/3358861113.py:10: SettingWithCopyWarning: \n",
      "A value is trying to be set on a copy of a slice from a DataFrame\n",
      "\n",
      "See the caveats in the documentation: https://pandas.pydata.org/pandas-docs/stable/user_guide/indexing.html#returning-a-view-versus-a-copy\n",
      "  df['class'][pointIDX] = 1\n",
      "/var/folders/jt/qjvfxd317_s79391s2jnf0w40000gn/T/ipykernel_8019/3358861113.py:12: SettingWithCopyWarning: \n",
      "A value is trying to be set on a copy of a slice from a DataFrame\n",
      "\n",
      "See the caveats in the documentation: https://pandas.pydata.org/pandas-docs/stable/user_guide/indexing.html#returning-a-view-versus-a-copy\n",
      "  df['class'][pointIDX] = 2\n"
     ]
    },
    {
     "name": "stdout",
     "output_type": "stream",
     "text": [
      "Iteration 2/2\n"
     ]
    },
    {
     "name": "stderr",
     "output_type": "stream",
     "text": [
      "/var/folders/jt/qjvfxd317_s79391s2jnf0w40000gn/T/ipykernel_8019/3358861113.py:10: SettingWithCopyWarning: \n",
      "A value is trying to be set on a copy of a slice from a DataFrame\n",
      "\n",
      "See the caveats in the documentation: https://pandas.pydata.org/pandas-docs/stable/user_guide/indexing.html#returning-a-view-versus-a-copy\n",
      "  df['class'][pointIDX] = 1\n",
      "/var/folders/jt/qjvfxd317_s79391s2jnf0w40000gn/T/ipykernel_8019/3358861113.py:14: SettingWithCopyWarning: \n",
      "A value is trying to be set on a copy of a slice from a DataFrame\n",
      "\n",
      "See the caveats in the documentation: https://pandas.pydata.org/pandas-docs/stable/user_guide/indexing.html#returning-a-view-versus-a-copy\n",
      "  df['class'][pointIDX] = 3\n",
      "/var/folders/jt/qjvfxd317_s79391s2jnf0w40000gn/T/ipykernel_8019/3358861113.py:12: SettingWithCopyWarning: \n",
      "A value is trying to be set on a copy of a slice from a DataFrame\n",
      "\n",
      "See the caveats in the documentation: https://pandas.pydata.org/pandas-docs/stable/user_guide/indexing.html#returning-a-view-versus-a-copy\n",
      "  df['class'][pointIDX] = 2\n"
     ]
    },
    {
     "name": "stdout",
     "output_type": "stream",
     "text": [
      "Iteration 3/3\n"
     ]
    },
    {
     "name": "stderr",
     "output_type": "stream",
     "text": [
      "/var/folders/jt/qjvfxd317_s79391s2jnf0w40000gn/T/ipykernel_8019/3358861113.py:14: SettingWithCopyWarning: \n",
      "A value is trying to be set on a copy of a slice from a DataFrame\n",
      "\n",
      "See the caveats in the documentation: https://pandas.pydata.org/pandas-docs/stable/user_guide/indexing.html#returning-a-view-versus-a-copy\n",
      "  df['class'][pointIDX] = 3\n",
      "/var/folders/jt/qjvfxd317_s79391s2jnf0w40000gn/T/ipykernel_8019/3358861113.py:10: SettingWithCopyWarning: \n",
      "A value is trying to be set on a copy of a slice from a DataFrame\n",
      "\n",
      "See the caveats in the documentation: https://pandas.pydata.org/pandas-docs/stable/user_guide/indexing.html#returning-a-view-versus-a-copy\n",
      "  df['class'][pointIDX] = 1\n",
      "/var/folders/jt/qjvfxd317_s79391s2jnf0w40000gn/T/ipykernel_8019/3358861113.py:12: SettingWithCopyWarning: \n",
      "A value is trying to be set on a copy of a slice from a DataFrame\n",
      "\n",
      "See the caveats in the documentation: https://pandas.pydata.org/pandas-docs/stable/user_guide/indexing.html#returning-a-view-versus-a-copy\n",
      "  df['class'][pointIDX] = 2\n"
     ]
    },
    {
     "name": "stdout",
     "output_type": "stream",
     "text": [
      "Iteration 4/4\n"
     ]
    },
    {
     "name": "stderr",
     "output_type": "stream",
     "text": [
      "/var/folders/jt/qjvfxd317_s79391s2jnf0w40000gn/T/ipykernel_8019/3358861113.py:10: SettingWithCopyWarning: \n",
      "A value is trying to be set on a copy of a slice from a DataFrame\n",
      "\n",
      "See the caveats in the documentation: https://pandas.pydata.org/pandas-docs/stable/user_guide/indexing.html#returning-a-view-versus-a-copy\n",
      "  df['class'][pointIDX] = 1\n",
      "/var/folders/jt/qjvfxd317_s79391s2jnf0w40000gn/T/ipykernel_8019/3358861113.py:14: SettingWithCopyWarning: \n",
      "A value is trying to be set on a copy of a slice from a DataFrame\n",
      "\n",
      "See the caveats in the documentation: https://pandas.pydata.org/pandas-docs/stable/user_guide/indexing.html#returning-a-view-versus-a-copy\n",
      "  df['class'][pointIDX] = 3\n",
      "/var/folders/jt/qjvfxd317_s79391s2jnf0w40000gn/T/ipykernel_8019/3358861113.py:12: SettingWithCopyWarning: \n",
      "A value is trying to be set on a copy of a slice from a DataFrame\n",
      "\n",
      "See the caveats in the documentation: https://pandas.pydata.org/pandas-docs/stable/user_guide/indexing.html#returning-a-view-versus-a-copy\n",
      "  df['class'][pointIDX] = 2\n"
     ]
    },
    {
     "data": {
      "text/plain": [
       "<Figure size 432x288 with 0 Axes>"
      ]
     },
     "metadata": {},
     "output_type": "display_data"
    },
    {
     "data": {
      "image/png": "[encoded data removed]",
      "text/plain": [
       "<Figure size 720x720 with 1 Axes>"
      ]
     },
     "metadata": {
      "needs_background": "light"
     },
     "output_type": "display_data"
    }
   ],
   "source": [
    "def Kmeans(df,iterations):\n",
    "\n",
    "    # Initialize the means\n",
    "    mean1, mean2, mean3 = initializeMeans(df)\n",
    "\n",
    "    # Run the Kmeans algorithm\n",
    "    for iteration in range(iterations):\n",
    "\n",
    "        print(\"Iteration {}/{}\".format(iteration,iteration))\n",
    "        \n",
    "        for i in range(len(df)):\n",
    "            df = euclideanDist(df,i,mean1,mean2, mean3)\n",
    "            \n",
    "        mean1, mean2, mean3 = updateMean(df)\n",
    "\n",
    "    return df, mean1, mean2, mean3\n",
    "\n",
    "df, mean1, mean2, mean3 = Kmeans(df,5)\n",
    "\n",
    "\n",
    "plt.clf()\n",
    "plt.figure(figsize=(10,10))\n",
    "plt.scatter(df.loc[df['class'] == 1]['height'],df.loc[df['class'] == 1]['shoe_size'],color='g',label='1')  #\n",
    "plt.scatter(df.loc[df['class'] == 2]['height'],df.loc[df['class'] == 2]['shoe_size'],color='b',label='2')  #\n",
    "plt.scatter(df.loc[df['class'] == 3]['height'],df.loc[df['class'] == 3]['shoe_size'],color='c',label='3')  #\n",
    "\n",
    "plt.scatter(mean1['height'],mean1['shoe_size'],s=70,label='mean1',marker='s',color='r')                    # Visualizing the final class distribution\n",
    "plt.scatter(mean2['height'],mean2['shoe_size'],s=70,label='mean2',marker='s',color='y') \n",
    "plt.scatter(mean3['height'],mean3['shoe_size'],s=70,label='mean3',marker='s',color='b')   \n",
    "\n",
    "\n",
    "plt.xlabel('Height')\n",
    "plt.ylabel('Shoe size')\n",
    "\n",
    "plt.legend()                                                                                                #\n",
    "plt.show()\n"
   ]
  }
 ],
 "metadata": {
  "kernelspec": {
   "display_name": "Python 3.9.12 ('base')",
   "language": "python",
   "name": "python3"
  },
  "language_info": {
   "codemirror_mode": {
    "name": "ipython",
    "version": 3
   },
   "file_extension": ".py",
   "mimetype": "text/x-python",
   "name": "python",
   "nbconvert_exporter": "python",
   "pygments_lexer": "ipython3",
   "version": "3.9.12"
  },
  "orig_nbformat": 4,
  "vscode": {
   "interpreter": {
    "hash": "7048a5d75593413cc54dc24206831079ac8905ffddb319c4eafd454be0ec5d5b"
   }
  }
 },
 "nbformat": 4,
 "nbformat_minor": 2
}
