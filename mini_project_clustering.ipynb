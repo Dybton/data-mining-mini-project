{
 "cells": [
  {
   "cell_type": "code",
   "execution_count": 167,
   "metadata": {},
   "outputs": [],
   "source": [
    "import numpy as np\n",
    "import pandas as pd\n",
    "import matplotlib.pyplot as plt\n",
    "import random\n",
    "from tkinter import E\n",
    "\n",
    "# import Data miners 2022 (answers).csv from the same directory as this file and create a dataframe called df\n",
    "df = pd.read_csv('Data miners 2022 (answers).csv')\n",
    "\n",
    "#change Your height (in International inches)\\nAlready, an awkward data storage format. It's good to be fluent in multiple systems! to height\n",
    "df = df.rename(columns={'Your height (in International inches)\\nAlready, an awkward data storage format. It\\'s good to be fluent in multiple systems!':'height'})\n",
    "#change Your mean shoe size (In European Continental system)\tto shoe_size\n",
    "df = df.rename(columns={'Your mean shoe size (In European Continental system)':'shoe_size'})\n",
    "\n",
    "# Assign all points to class 0\n",
    "df['class'] = 0\n",
    "\n",
    "#remove all columns but shoe_size, height, and class\n",
    "df = df[['shoe_size', 'height', 'class']]\n",
    "\n",
    "#remove observations that are 3 standard deviations from the mean\n",
    "df = df[(np.abs(df.height-df.height.mean()) <= (3*df.height.std())) & (np.abs(df.shoe_size-df.shoe_size.mean()) <= (3*df.shoe_size.std()))]\n",
    "\n",
    "#normalize the data\n",
    "df['height'] = df['height'] / max(df['height']) \n",
    "df['shoe_size'] = df['shoe_size'] / max(df['shoe_size']) \n",
    "\n",
    "\n"
   ]
  },
  {
   "cell_type": "code",
   "execution_count": 168,
   "metadata": {},
   "outputs": [
    {
     "data": {
      "image/png": "[encoded data removed]",
      "text/plain": [
       "<Figure size 432x288 with 1 Axes>"
      ]
     },
     "metadata": {
      "needs_background": "light"
     },
     "output_type": "display_data"
    },
    {
     "data": {
      "text/html": [
       "<div>\n",
       "<style scoped>\n",
       "    .dataframe tbody tr th:only-of-type {\n",
       "        vertical-align: middle;\n",
       "    }\n",
       "\n",
       "    .dataframe tbody tr th {\n",
       "        vertical-align: top;\n",
       "    }\n",
       "\n",
       "    .dataframe thead th {\n",
       "        text-align: right;\n",
       "    }\n",
       "</style>\n",
       "<table border=\"1\" class=\"dataframe\">\n",
       "  <thead>\n",
       "    <tr style=\"text-align: right;\">\n",
       "      <th></th>\n",
       "      <th>shoe_size</th>\n",
       "      <th>height</th>\n",
       "      <th>class</th>\n",
       "    </tr>\n",
       "  </thead>\n",
       "  <tbody>\n",
       "    <tr>\n",
       "      <th>0</th>\n",
       "      <td>1.000000</td>\n",
       "      <td>0.035028</td>\n",
       "      <td>0</td>\n",
       "    </tr>\n",
       "    <tr>\n",
       "      <th>1</th>\n",
       "      <td>0.829787</td>\n",
       "      <td>0.943503</td>\n",
       "      <td>0</td>\n",
       "    </tr>\n",
       "    <tr>\n",
       "      <th>2</th>\n",
       "      <td>0.893617</td>\n",
       "      <td>0.384181</td>\n",
       "      <td>0</td>\n",
       "    </tr>\n",
       "    <tr>\n",
       "      <th>3</th>\n",
       "      <td>0.808511</td>\n",
       "      <td>0.375706</td>\n",
       "      <td>0</td>\n",
       "    </tr>\n",
       "    <tr>\n",
       "      <th>4</th>\n",
       "      <td>0.851064</td>\n",
       "      <td>0.371412</td>\n",
       "      <td>0</td>\n",
       "    </tr>\n",
       "    <tr>\n",
       "      <th>5</th>\n",
       "      <td>0.893617</td>\n",
       "      <td>0.429379</td>\n",
       "      <td>0</td>\n",
       "    </tr>\n",
       "    <tr>\n",
       "      <th>6</th>\n",
       "      <td>0.936170</td>\n",
       "      <td>0.400565</td>\n",
       "      <td>0</td>\n",
       "    </tr>\n",
       "    <tr>\n",
       "      <th>8</th>\n",
       "      <td>0.893617</td>\n",
       "      <td>0.400000</td>\n",
       "      <td>0</td>\n",
       "    </tr>\n",
       "    <tr>\n",
       "      <th>9</th>\n",
       "      <td>0.851064</td>\n",
       "      <td>0.389831</td>\n",
       "      <td>0</td>\n",
       "    </tr>\n",
       "    <tr>\n",
       "      <th>10</th>\n",
       "      <td>0.872340</td>\n",
       "      <td>0.033898</td>\n",
       "      <td>0</td>\n",
       "    </tr>\n",
       "    <tr>\n",
       "      <th>11</th>\n",
       "      <td>0.787234</td>\n",
       "      <td>0.361582</td>\n",
       "      <td>0</td>\n",
       "    </tr>\n",
       "    <tr>\n",
       "      <th>12</th>\n",
       "      <td>0.914894</td>\n",
       "      <td>0.406780</td>\n",
       "      <td>0</td>\n",
       "    </tr>\n",
       "    <tr>\n",
       "      <th>13</th>\n",
       "      <td>0.893617</td>\n",
       "      <td>0.389266</td>\n",
       "      <td>0</td>\n",
       "    </tr>\n",
       "    <tr>\n",
       "      <th>14</th>\n",
       "      <td>0.829787</td>\n",
       "      <td>0.371458</td>\n",
       "      <td>0</td>\n",
       "    </tr>\n",
       "    <tr>\n",
       "      <th>15</th>\n",
       "      <td>0.787234</td>\n",
       "      <td>0.355932</td>\n",
       "      <td>0</td>\n",
       "    </tr>\n",
       "    <tr>\n",
       "      <th>16</th>\n",
       "      <td>0.851064</td>\n",
       "      <td>0.389831</td>\n",
       "      <td>0</td>\n",
       "    </tr>\n",
       "    <tr>\n",
       "      <th>17</th>\n",
       "      <td>0.893617</td>\n",
       "      <td>0.971751</td>\n",
       "      <td>0</td>\n",
       "    </tr>\n",
       "    <tr>\n",
       "      <th>18</th>\n",
       "      <td>0.808511</td>\n",
       "      <td>0.355932</td>\n",
       "      <td>0</td>\n",
       "    </tr>\n",
       "    <tr>\n",
       "      <th>19</th>\n",
       "      <td>0.957447</td>\n",
       "      <td>0.406780</td>\n",
       "      <td>0</td>\n",
       "    </tr>\n",
       "    <tr>\n",
       "      <th>20</th>\n",
       "      <td>0.819149</td>\n",
       "      <td>0.366667</td>\n",
       "      <td>0</td>\n",
       "    </tr>\n",
       "    <tr>\n",
       "      <th>21</th>\n",
       "      <td>0.808511</td>\n",
       "      <td>0.960452</td>\n",
       "      <td>0</td>\n",
       "    </tr>\n",
       "    <tr>\n",
       "      <th>22</th>\n",
       "      <td>0.957447</td>\n",
       "      <td>0.400395</td>\n",
       "      <td>0</td>\n",
       "    </tr>\n",
       "    <tr>\n",
       "      <th>23</th>\n",
       "      <td>0.829787</td>\n",
       "      <td>0.364407</td>\n",
       "      <td>0</td>\n",
       "    </tr>\n",
       "    <tr>\n",
       "      <th>24</th>\n",
       "      <td>0.914894</td>\n",
       "      <td>0.418079</td>\n",
       "      <td>0</td>\n",
       "    </tr>\n",
       "    <tr>\n",
       "      <th>25</th>\n",
       "      <td>0.978723</td>\n",
       "      <td>0.418079</td>\n",
       "      <td>0</td>\n",
       "    </tr>\n",
       "    <tr>\n",
       "      <th>26</th>\n",
       "      <td>0.808511</td>\n",
       "      <td>0.954802</td>\n",
       "      <td>0</td>\n",
       "    </tr>\n",
       "    <tr>\n",
       "      <th>27</th>\n",
       "      <td>0.829787</td>\n",
       "      <td>0.371186</td>\n",
       "      <td>0</td>\n",
       "    </tr>\n",
       "    <tr>\n",
       "      <th>28</th>\n",
       "      <td>0.829787</td>\n",
       "      <td>0.395925</td>\n",
       "      <td>0</td>\n",
       "    </tr>\n",
       "    <tr>\n",
       "      <th>29</th>\n",
       "      <td>0.872340</td>\n",
       "      <td>0.411469</td>\n",
       "      <td>0</td>\n",
       "    </tr>\n",
       "    <tr>\n",
       "      <th>30</th>\n",
       "      <td>0.808511</td>\n",
       "      <td>0.373672</td>\n",
       "      <td>0</td>\n",
       "    </tr>\n",
       "    <tr>\n",
       "      <th>31</th>\n",
       "      <td>0.787234</td>\n",
       "      <td>0.367006</td>\n",
       "      <td>0</td>\n",
       "    </tr>\n",
       "    <tr>\n",
       "      <th>32</th>\n",
       "      <td>0.808511</td>\n",
       "      <td>0.377966</td>\n",
       "      <td>0</td>\n",
       "    </tr>\n",
       "    <tr>\n",
       "      <th>33</th>\n",
       "      <td>0.957447</td>\n",
       "      <td>0.406780</td>\n",
       "      <td>0</td>\n",
       "    </tr>\n",
       "    <tr>\n",
       "      <th>34</th>\n",
       "      <td>0.893617</td>\n",
       "      <td>0.406780</td>\n",
       "      <td>0</td>\n",
       "    </tr>\n",
       "    <tr>\n",
       "      <th>35</th>\n",
       "      <td>0.829787</td>\n",
       "      <td>0.366667</td>\n",
       "      <td>0</td>\n",
       "    </tr>\n",
       "    <tr>\n",
       "      <th>36</th>\n",
       "      <td>0.914894</td>\n",
       "      <td>0.418079</td>\n",
       "      <td>0</td>\n",
       "    </tr>\n",
       "    <tr>\n",
       "      <th>37</th>\n",
       "      <td>0.957447</td>\n",
       "      <td>0.424859</td>\n",
       "      <td>0</td>\n",
       "    </tr>\n",
       "    <tr>\n",
       "      <th>38</th>\n",
       "      <td>0.893617</td>\n",
       "      <td>0.401130</td>\n",
       "      <td>0</td>\n",
       "    </tr>\n",
       "    <tr>\n",
       "      <th>39</th>\n",
       "      <td>0.765957</td>\n",
       "      <td>0.361582</td>\n",
       "      <td>0</td>\n",
       "    </tr>\n",
       "    <tr>\n",
       "      <th>40</th>\n",
       "      <td>0.787234</td>\n",
       "      <td>0.387006</td>\n",
       "      <td>0</td>\n",
       "    </tr>\n",
       "    <tr>\n",
       "      <th>41</th>\n",
       "      <td>0.904255</td>\n",
       "      <td>0.401130</td>\n",
       "      <td>0</td>\n",
       "    </tr>\n",
       "    <tr>\n",
       "      <th>42</th>\n",
       "      <td>0.808511</td>\n",
       "      <td>0.364972</td>\n",
       "      <td>0</td>\n",
       "    </tr>\n",
       "    <tr>\n",
       "      <th>43</th>\n",
       "      <td>0.936170</td>\n",
       "      <td>0.412429</td>\n",
       "      <td>0</td>\n",
       "    </tr>\n",
       "    <tr>\n",
       "      <th>44</th>\n",
       "      <td>0.765957</td>\n",
       "      <td>0.347458</td>\n",
       "      <td>0</td>\n",
       "    </tr>\n",
       "    <tr>\n",
       "      <th>45</th>\n",
       "      <td>0.893617</td>\n",
       "      <td>1.000000</td>\n",
       "      <td>0</td>\n",
       "    </tr>\n",
       "    <tr>\n",
       "      <th>46</th>\n",
       "      <td>0.829787</td>\n",
       "      <td>0.360339</td>\n",
       "      <td>0</td>\n",
       "    </tr>\n",
       "    <tr>\n",
       "      <th>47</th>\n",
       "      <td>0.936170</td>\n",
       "      <td>0.350282</td>\n",
       "      <td>0</td>\n",
       "    </tr>\n",
       "    <tr>\n",
       "      <th>48</th>\n",
       "      <td>0.893617</td>\n",
       "      <td>0.395480</td>\n",
       "      <td>0</td>\n",
       "    </tr>\n",
       "    <tr>\n",
       "      <th>49</th>\n",
       "      <td>0.936170</td>\n",
       "      <td>0.415932</td>\n",
       "      <td>0</td>\n",
       "    </tr>\n",
       "    <tr>\n",
       "      <th>50</th>\n",
       "      <td>0.936170</td>\n",
       "      <td>0.088023</td>\n",
       "      <td>0</td>\n",
       "    </tr>\n",
       "    <tr>\n",
       "      <th>52</th>\n",
       "      <td>0.957447</td>\n",
       "      <td>0.423729</td>\n",
       "      <td>0</td>\n",
       "    </tr>\n",
       "  </tbody>\n",
       "</table>\n",
       "</div>"
      ],
      "text/plain": [
       "    shoe_size    height  class\n",
       "0    1.000000  0.035028      0\n",
       "1    0.829787  0.943503      0\n",
       "2    0.893617  0.384181      0\n",
       "3    0.808511  0.375706      0\n",
       "4    0.851064  0.371412      0\n",
       "5    0.893617  0.429379      0\n",
       "6    0.936170  0.400565      0\n",
       "8    0.893617  0.400000      0\n",
       "9    0.851064  0.389831      0\n",
       "10   0.872340  0.033898      0\n",
       "11   0.787234  0.361582      0\n",
       "12   0.914894  0.406780      0\n",
       "13   0.893617  0.389266      0\n",
       "14   0.829787  0.371458      0\n",
       "15   0.787234  0.355932      0\n",
       "16   0.851064  0.389831      0\n",
       "17   0.893617  0.971751      0\n",
       "18   0.808511  0.355932      0\n",
       "19   0.957447  0.406780      0\n",
       "20   0.819149  0.366667      0\n",
       "21   0.808511  0.960452      0\n",
       "22   0.957447  0.400395      0\n",
       "23   0.829787  0.364407      0\n",
       "24   0.914894  0.418079      0\n",
       "25   0.978723  0.418079      0\n",
       "26   0.808511  0.954802      0\n",
       "27   0.829787  0.371186      0\n",
       "28   0.829787  0.395925      0\n",
       "29   0.872340  0.411469      0\n",
       "30   0.808511  0.373672      0\n",
       "31   0.787234  0.367006      0\n",
       "32   0.808511  0.377966      0\n",
       "33   0.957447  0.406780      0\n",
       "34   0.893617  0.406780      0\n",
       "35   0.829787  0.366667      0\n",
       "36   0.914894  0.418079      0\n",
       "37   0.957447  0.424859      0\n",
       "38   0.893617  0.401130      0\n",
       "39   0.765957  0.361582      0\n",
       "40   0.787234  0.387006      0\n",
       "41   0.904255  0.401130      0\n",
       "42   0.808511  0.364972      0\n",
       "43   0.936170  0.412429      0\n",
       "44   0.765957  0.347458      0\n",
       "45   0.893617  1.000000      0\n",
       "46   0.829787  0.360339      0\n",
       "47   0.936170  0.350282      0\n",
       "48   0.893617  0.395480      0\n",
       "49   0.936170  0.415932      0\n",
       "50   0.936170  0.088023      0\n",
       "52   0.957447  0.423729      0"
      ]
     },
     "metadata": {},
     "output_type": "display_data"
    }
   ],
   "source": [
    "plt.title('Scatter plot of the Distribution of data')\n",
    "plt.scatter(df['height'],df['shoe_size']) # Visualizing the distribution\n",
    "plt.show()\n",
    "\n",
    "display(df)"
   ]
  },
  {
   "cell_type": "code",
   "execution_count": 169,
   "metadata": {},
   "outputs": [],
   "source": [
    "def initializeMeans(df):\n",
    "\n",
    "    \"\"\"\n",
    "    Intialize the means by randomly taking two points from the dataframe. Hint: check the function 'random.randint'\n",
    "    return two pandas dataframes (or pandas series) with mean1 and mean2\n",
    "    \"\"\"\n",
    "\n",
    "    # Randomly initialize the means\n",
    "    mean1 = df.iloc[random.randint(0,len(df)-1)]\n",
    "    mean2 = df.iloc[random.randint(0,len(df)-1)]\n",
    "    mean3 = df.iloc[random.randint(0,len(df)-1)]\n",
    "\n",
    "    return mean1, mean2, mean3"
   ]
  },
  {
   "cell_type": "code",
   "execution_count": 170,
   "metadata": {},
   "outputs": [
    {
     "name": "stderr",
     "output_type": "stream",
     "text": [
      "/var/folders/jt/qjvfxd317_s79391s2jnf0w40000gn/T/ipykernel_8019/3358861113.py:14: SettingWithCopyWarning: \n",
      "A value is trying to be set on a copy of a slice from a DataFrame\n",
      "\n",
      "See the caveats in the documentation: https://pandas.pydata.org/pandas-docs/stable/user_guide/indexing.html#returning-a-view-versus-a-copy\n",
      "  df['class'][pointIDX] = 3\n"
     ]
    }
   ],
   "source": [
    "\n",
    "def euclideanDist(df,pointIDX,mean1,mean2, mean3):\n",
    "\n",
    "    # Calculate the euclidean distance between the point and the two means\n",
    "    dist1 = np.sqrt((df.iloc[pointIDX]['shoe_size'] - mean1['shoe_size'])**2 + (df.iloc[pointIDX]['height'] - mean1['height'])**2)\n",
    "    dist2 = np.sqrt((df.iloc[pointIDX]['shoe_size'] - mean2['shoe_size'])**2 + (df.iloc[pointIDX]['height'] - mean2['height'])**2)\n",
    "    dist3 = np.sqrt((df.iloc[pointIDX]['shoe_size'] - mean2['shoe_size'])**2 + (df.iloc[pointIDX]['height'] - mean3['height'])**2)\n",
    "    \n",
    "    # Assign the point to the mean with the smallest distance\n",
    "    if dist1 < dist2 and dist1 < dist3:\n",
    "        df['class'][pointIDX] = 1\n",
    "    elif dist2 < dist1 and dist2 < dist3:\n",
    "        df['class'][pointIDX] = 2\n",
    "    else:\n",
    "        df['class'][pointIDX] = 3\n",
    "    \n",
    "    return df\n",
    "\n",
    "m1, m2, m3 = initializeMeans(df)\n",
    "b = euclideanDist(df, 5, m1,m2,m3)"
   ]
  },
  {
   "cell_type": "code",
   "execution_count": 171,
   "metadata": {},
   "outputs": [],
   "source": [
    "def updateMean(df):\n",
    "    \"\"\"\n",
    "    df is the dataframe of points containing the assigned classes\n",
    "    return updated mean1 and mean2 based on the value in column 'class'. mean1 and mean2 should still be pandas dataframes (or pandas series)\n",
    "    \"\"\"\n",
    "    mean1 = df.loc[df['class']==1].mean()\n",
    "    mean2 = df.loc[df['class']==2].mean()\n",
    "    mean3 = df.loc[df['class']==3].mean()\n",
    "    \n",
    "    return mean1, mean2, mean3"
   ]
  },
  {
   "cell_type": "code",
   "execution_count": 172,
   "metadata": {},
   "outputs": [
    {
     "name": "stdout",
     "output_type": "stream",
     "text": [
      "Iteration 0/0\n"
     ]
    },
    {
     "name": "stderr",
     "output_type": "stream",
     "text": [
      "/var/folders/jt/qjvfxd317_s79391s2jnf0w40000gn/T/ipykernel_8019/3358861113.py:12: SettingWithCopyWarning: \n",
      "A value is trying to be set on a copy of a slice from a DataFrame\n",
      "\n",
      "See the caveats in the documentation: https://pandas.pydata.org/pandas-docs/stable/user_guide/indexing.html#returning-a-view-versus-a-copy\n",
      "  df['class'][pointIDX] = 2\n",
      "/var/folders/jt/qjvfxd317_s79391s2jnf0w40000gn/T/ipykernel_8019/3358861113.py:14: SettingWithCopyWarning: \n",
      "A value is trying to be set on a copy of a slice from a DataFrame\n",
      "\n",
      "See the caveats in the documentation: https://pandas.pydata.org/pandas-docs/stable/user_guide/indexing.html#returning-a-view-versus-a-copy\n",
      "  df['class'][pointIDX] = 3\n",
      "/var/folders/jt/qjvfxd317_s79391s2jnf0w40000gn/T/ipykernel_8019/3358861113.py:10: SettingWithCopyWarning: \n",
      "A value is trying to be set on a copy of a slice from a DataFrame\n",
      "\n",
      "See the caveats in the documentation: https://pandas.pydata.org/pandas-docs/stable/user_guide/indexing.html#returning-a-view-versus-a-copy\n",
      "  df['class'][pointIDX] = 1\n",
      "/var/folders/jt/qjvfxd317_s79391s2jnf0w40000gn/T/ipykernel_8019/3358861113.py:12: SettingWithCopyWarning: \n",
      "A value is trying to be set on a copy of a slice from a DataFrame\n",
      "\n",
      "See the caveats in the documentation: https://pandas.pydata.org/pandas-docs/stable/user_guide/indexing.html#returning-a-view-versus-a-copy\n",
      "  df['class'][pointIDX] = 2\n",
      "/var/folders/jt/qjvfxd317_s79391s2jnf0w40000gn/T/ipykernel_8019/3358861113.py:10: SettingWithCopyWarning: \n",
      "A value is trying to be set on a copy of a slice from a DataFrame\n",
      "\n",
      "See the caveats in the documentation: https://pandas.pydata.org/pandas-docs/stable/user_guide/indexing.html#returning-a-view-versus-a-copy\n",
      "  df['class'][pointIDX] = 1\n",
      "/var/folders/jt/qjvfxd317_s79391s2jnf0w40000gn/T/ipykernel_8019/3358861113.py:14: SettingWithCopyWarning: \n",
      "A value is trying to be set on a copy of a slice from a DataFrame\n",
      "\n",
      "See the caveats in the documentation: https://pandas.pydata.org/pandas-docs/stable/user_guide/indexing.html#returning-a-view-versus-a-copy\n",
      "  df['class'][pointIDX] = 3\n"
     ]
    },
    {
     "name": "stdout",
     "output_type": "stream",
     "text": [
      "Iteration 1/1\n"
     ]
    },
    {
     "name": "stderr",
     "output_type": "stream",
     "text": [
      "/var/folders/jt/qjvfxd317_s79391s2jnf0w40000gn/T/ipykernel_8019/3358861113.py:10: SettingWithCopyWarning: \n",
      "A value is trying to be set on a copy of a slice from a DataFrame\n",
      "\n",
      "See the caveats in the documentation: https://pandas.pydata.org/pandas-docs/stable/user_guide/indexing.html#returning-a-view-versus-a-copy\n",
      "  df['class'][pointIDX] = 1\n",
      "/var/folders/jt/qjvfxd317_s79391s2jnf0w40000gn/T/ipykernel_8019/3358861113.py:12: SettingWithCopyWarning: \n",
      "A value is trying to be set on a copy of a slice from a DataFrame\n",
      "\n",
      "See the caveats in the documentation: https://pandas.pydata.org/pandas-docs/stable/user_guide/indexing.html#returning-a-view-versus-a-copy\n",
      "  df['class'][pointIDX] = 2\n",
      "/var/folders/jt/qjvfxd317_s79391s2jnf0w40000gn/T/ipykernel_8019/3358861113.py:14: SettingWithCopyWarning: \n",
      "A value is trying to be set on a copy of a slice from a DataFrame\n",
      "\n",
      "See the caveats in the documentation: https://pandas.pydata.org/pandas-docs/stable/user_guide/indexing.html#returning-a-view-versus-a-copy\n",
      "  df['class'][pointIDX] = 3\n"
     ]
    },
    {
     "name": "stdout",
     "output_type": "stream",
     "text": [
      "Iteration 2/2\n"
     ]
    },
    {
     "name": "stderr",
     "output_type": "stream",
     "text": [
      "/var/folders/jt/qjvfxd317_s79391s2jnf0w40000gn/T/ipykernel_8019/3358861113.py:12: SettingWithCopyWarning: \n",
      "A value is trying to be set on a copy of a slice from a DataFrame\n",
      "\n",
      "See the caveats in the documentation: https://pandas.pydata.org/pandas-docs/stable/user_guide/indexing.html#returning-a-view-versus-a-copy\n",
      "  df['class'][pointIDX] = 2\n",
      "/var/folders/jt/qjvfxd317_s79391s2jnf0w40000gn/T/ipykernel_8019/3358861113.py:10: SettingWithCopyWarning: \n",
      "A value is trying to be set on a copy of a slice from a DataFrame\n",
      "\n",
      "See the caveats in the documentation: https://pandas.pydata.org/pandas-docs/stable/user_guide/indexing.html#returning-a-view-versus-a-copy\n",
      "  df['class'][pointIDX] = 1\n",
      "/var/folders/jt/qjvfxd317_s79391s2jnf0w40000gn/T/ipykernel_8019/3358861113.py:14: SettingWithCopyWarning: \n",
      "A value is trying to be set on a copy of a slice from a DataFrame\n",
      "\n",
      "See the caveats in the documentation: https://pandas.pydata.org/pandas-docs/stable/user_guide/indexing.html#returning-a-view-versus-a-copy\n",
      "  df['class'][pointIDX] = 3\n"
     ]
    },
    {
     "name": "stdout",
     "output_type": "stream",
     "text": [
      "Iteration 3/3\n"
     ]
    },
    {
     "name": "stderr",
     "output_type": "stream",
     "text": [
      "/var/folders/jt/qjvfxd317_s79391s2jnf0w40000gn/T/ipykernel_8019/3358861113.py:10: SettingWithCopyWarning: \n",
      "A value is trying to be set on a copy of a slice from a DataFrame\n",
      "\n",
      "See the caveats in the documentation: https://pandas.pydata.org/pandas-docs/stable/user_guide/indexing.html#returning-a-view-versus-a-copy\n",
      "  df['class'][pointIDX] = 1\n",
      "/var/folders/jt/qjvfxd317_s79391s2jnf0w40000gn/T/ipykernel_8019/3358861113.py:14: SettingWithCopyWarning: \n",
      "A value is trying to be set on a copy of a slice from a DataFrame\n",
      "\n",
      "See the caveats in the documentation: https://pandas.pydata.org/pandas-docs/stable/user_guide/indexing.html#returning-a-view-versus-a-copy\n",
      "  df['class'][pointIDX] = 3\n",
      "/var/folders/jt/qjvfxd317_s79391s2jnf0w40000gn/T/ipykernel_8019/3358861113.py:12: SettingWithCopyWarning: \n",
      "A value is trying to be set on a copy of a slice from a DataFrame\n",
      "\n",
      "See the caveats in the documentation: https://pandas.pydata.org/pandas-docs/stable/user_guide/indexing.html#returning-a-view-versus-a-copy\n",
      "  df['class'][pointIDX] = 2\n"
     ]
    },
    {
     "name": "stdout",
     "output_type": "stream",
     "text": [
      "Iteration 4/4\n"
     ]
    },
    {
     "name": "stderr",
     "output_type": "stream",
     "text": [
      "/var/folders/jt/qjvfxd317_s79391s2jnf0w40000gn/T/ipykernel_8019/3358861113.py:10: SettingWithCopyWarning: \n",
      "A value is trying to be set on a copy of a slice from a DataFrame\n",
      "\n",
      "See the caveats in the documentation: https://pandas.pydata.org/pandas-docs/stable/user_guide/indexing.html#returning-a-view-versus-a-copy\n",
      "  df['class'][pointIDX] = 1\n",
      "/var/folders/jt/qjvfxd317_s79391s2jnf0w40000gn/T/ipykernel_8019/3358861113.py:12: SettingWithCopyWarning: \n",
      "A value is trying to be set on a copy of a slice from a DataFrame\n",
      "\n",
      "See the caveats in the documentation: https://pandas.pydata.org/pandas-docs/stable/user_guide/indexing.html#returning-a-view-versus-a-copy\n",
      "  df['class'][pointIDX] = 2\n",
      "/var/folders/jt/qjvfxd317_s79391s2jnf0w40000gn/T/ipykernel_8019/3358861113.py:14: SettingWithCopyWarning: \n",
      "A value is trying to be set on a copy of a slice from a DataFrame\n",
      "\n",
      "See the caveats in the documentation: https://pandas.pydata.org/pandas-docs/stable/user_guide/indexing.html#returning-a-view-versus-a-copy\n",
      "  df['class'][pointIDX] = 3\n"
     ]
    },
    {
     "name": "stdout",
     "output_type": "stream",
     "text": [
      "Iteration 5/5\n"
     ]
    },
    {
     "name": "stderr",
     "output_type": "stream",
     "text": [
      "/var/folders/jt/qjvfxd317_s79391s2jnf0w40000gn/T/ipykernel_8019/3358861113.py:10: SettingWithCopyWarning: \n",
      "A value is trying to be set on a copy of a slice from a DataFrame\n",
      "\n",
      "See the caveats in the documentation: https://pandas.pydata.org/pandas-docs/stable/user_guide/indexing.html#returning-a-view-versus-a-copy\n",
      "  df['class'][pointIDX] = 1\n",
      "/var/folders/jt/qjvfxd317_s79391s2jnf0w40000gn/T/ipykernel_8019/3358861113.py:12: SettingWithCopyWarning: \n",
      "A value is trying to be set on a copy of a slice from a DataFrame\n",
      "\n",
      "See the caveats in the documentation: https://pandas.pydata.org/pandas-docs/stable/user_guide/indexing.html#returning-a-view-versus-a-copy\n",
      "  df['class'][pointIDX] = 2\n",
      "/var/folders/jt/qjvfxd317_s79391s2jnf0w40000gn/T/ipykernel_8019/3358861113.py:14: SettingWithCopyWarning: \n",
      "A value is trying to be set on a copy of a slice from a DataFrame\n",
      "\n",
      "See the caveats in the documentation: https://pandas.pydata.org/pandas-docs/stable/user_guide/indexing.html#returning-a-view-versus-a-copy\n",
      "  df['class'][pointIDX] = 3\n"
     ]
    },
    {
     "name": "stdout",
     "output_type": "stream",
     "text": [
      "Iteration 6/6\n"
     ]
    },
    {
     "name": "stderr",
     "output_type": "stream",
     "text": [
      "/var/folders/jt/qjvfxd317_s79391s2jnf0w40000gn/T/ipykernel_8019/3358861113.py:12: SettingWithCopyWarning: \n",
      "A value is trying to be set on a copy of a slice from a DataFrame\n",
      "\n",
      "See the caveats in the documentation: https://pandas.pydata.org/pandas-docs/stable/user_guide/indexing.html#returning-a-view-versus-a-copy\n",
      "  df['class'][pointIDX] = 2\n",
      "/var/folders/jt/qjvfxd317_s79391s2jnf0w40000gn/T/ipykernel_8019/3358861113.py:10: SettingWithCopyWarning: \n",
      "A value is trying to be set on a copy of a slice from a DataFrame\n",
      "\n",
      "See the caveats in the documentation: https://pandas.pydata.org/pandas-docs/stable/user_guide/indexing.html#returning-a-view-versus-a-copy\n",
      "  df['class'][pointIDX] = 1\n",
      "/var/folders/jt/qjvfxd317_s79391s2jnf0w40000gn/T/ipykernel_8019/3358861113.py:14: SettingWithCopyWarning: \n",
      "A value is trying to be set on a copy of a slice from a DataFrame\n",
      "\n",
      "See the caveats in the documentation: https://pandas.pydata.org/pandas-docs/stable/user_guide/indexing.html#returning-a-view-versus-a-copy\n",
      "  df['class'][pointIDX] = 3\n"
     ]
    },
    {
     "name": "stdout",
     "output_type": "stream",
     "text": [
      "Iteration 7/7\n"
     ]
    },
    {
     "name": "stderr",
     "output_type": "stream",
     "text": [
      "/var/folders/jt/qjvfxd317_s79391s2jnf0w40000gn/T/ipykernel_8019/3358861113.py:10: SettingWithCopyWarning: \n",
      "A value is trying to be set on a copy of a slice from a DataFrame\n",
      "\n",
      "See the caveats in the documentation: https://pandas.pydata.org/pandas-docs/stable/user_guide/indexing.html#returning-a-view-versus-a-copy\n",
      "  df['class'][pointIDX] = 1\n",
      "/var/folders/jt/qjvfxd317_s79391s2jnf0w40000gn/T/ipykernel_8019/3358861113.py:12: SettingWithCopyWarning: \n",
      "A value is trying to be set on a copy of a slice from a DataFrame\n",
      "\n",
      "See the caveats in the documentation: https://pandas.pydata.org/pandas-docs/stable/user_guide/indexing.html#returning-a-view-versus-a-copy\n",
      "  df['class'][pointIDX] = 2\n",
      "/var/folders/jt/qjvfxd317_s79391s2jnf0w40000gn/T/ipykernel_8019/3358861113.py:14: SettingWithCopyWarning: \n",
      "A value is trying to be set on a copy of a slice from a DataFrame\n",
      "\n",
      "See the caveats in the documentation: https://pandas.pydata.org/pandas-docs/stable/user_guide/indexing.html#returning-a-view-versus-a-copy\n",
      "  df['class'][pointIDX] = 3\n"
     ]
    },
    {
     "name": "stdout",
     "output_type": "stream",
     "text": [
      "Iteration 8/8\n"
     ]
    },
    {
     "name": "stderr",
     "output_type": "stream",
     "text": [
      "/var/folders/jt/qjvfxd317_s79391s2jnf0w40000gn/T/ipykernel_8019/3358861113.py:12: SettingWithCopyWarning: \n",
      "A value is trying to be set on a copy of a slice from a DataFrame\n",
      "\n",
      "See the caveats in the documentation: https://pandas.pydata.org/pandas-docs/stable/user_guide/indexing.html#returning-a-view-versus-a-copy\n",
      "  df['class'][pointIDX] = 2\n",
      "/var/folders/jt/qjvfxd317_s79391s2jnf0w40000gn/T/ipykernel_8019/3358861113.py:10: SettingWithCopyWarning: \n",
      "A value is trying to be set on a copy of a slice from a DataFrame\n",
      "\n",
      "See the caveats in the documentation: https://pandas.pydata.org/pandas-docs/stable/user_guide/indexing.html#returning-a-view-versus-a-copy\n",
      "  df['class'][pointIDX] = 1\n",
      "/var/folders/jt/qjvfxd317_s79391s2jnf0w40000gn/T/ipykernel_8019/3358861113.py:14: SettingWithCopyWarning: \n",
      "A value is trying to be set on a copy of a slice from a DataFrame\n",
      "\n",
      "See the caveats in the documentation: https://pandas.pydata.org/pandas-docs/stable/user_guide/indexing.html#returning-a-view-versus-a-copy\n",
      "  df['class'][pointIDX] = 3\n"
     ]
    },
    {
     "name": "stdout",
     "output_type": "stream",
     "text": [
      "Iteration 9/9\n"
     ]
    },
    {
     "name": "stderr",
     "output_type": "stream",
     "text": [
      "/var/folders/jt/qjvfxd317_s79391s2jnf0w40000gn/T/ipykernel_8019/3358861113.py:10: SettingWithCopyWarning: \n",
      "A value is trying to be set on a copy of a slice from a DataFrame\n",
      "\n",
      "See the caveats in the documentation: https://pandas.pydata.org/pandas-docs/stable/user_guide/indexing.html#returning-a-view-versus-a-copy\n",
      "  df['class'][pointIDX] = 1\n",
      "/var/folders/jt/qjvfxd317_s79391s2jnf0w40000gn/T/ipykernel_8019/3358861113.py:14: SettingWithCopyWarning: \n",
      "A value is trying to be set on a copy of a slice from a DataFrame\n",
      "\n",
      "See the caveats in the documentation: https://pandas.pydata.org/pandas-docs/stable/user_guide/indexing.html#returning-a-view-versus-a-copy\n",
      "  df['class'][pointIDX] = 3\n",
      "/var/folders/jt/qjvfxd317_s79391s2jnf0w40000gn/T/ipykernel_8019/3358861113.py:12: SettingWithCopyWarning: \n",
      "A value is trying to be set on a copy of a slice from a DataFrame\n",
      "\n",
      "See the caveats in the documentation: https://pandas.pydata.org/pandas-docs/stable/user_guide/indexing.html#returning-a-view-versus-a-copy\n",
      "  df['class'][pointIDX] = 2\n"
     ]
    },
    {
     "name": "stdout",
     "output_type": "stream",
     "text": [
      "Iteration 10/10\n"
     ]
    },
    {
     "name": "stderr",
     "output_type": "stream",
     "text": [
      "/var/folders/jt/qjvfxd317_s79391s2jnf0w40000gn/T/ipykernel_8019/3358861113.py:10: SettingWithCopyWarning: \n",
      "A value is trying to be set on a copy of a slice from a DataFrame\n",
      "\n",
      "See the caveats in the documentation: https://pandas.pydata.org/pandas-docs/stable/user_guide/indexing.html#returning-a-view-versus-a-copy\n",
      "  df['class'][pointIDX] = 1\n",
      "/var/folders/jt/qjvfxd317_s79391s2jnf0w40000gn/T/ipykernel_8019/3358861113.py:12: SettingWithCopyWarning: \n",
      "A value is trying to be set on a copy of a slice from a DataFrame\n",
      "\n",
      "See the caveats in the documentation: https://pandas.pydata.org/pandas-docs/stable/user_guide/indexing.html#returning-a-view-versus-a-copy\n",
      "  df['class'][pointIDX] = 2\n",
      "/var/folders/jt/qjvfxd317_s79391s2jnf0w40000gn/T/ipykernel_8019/3358861113.py:14: SettingWithCopyWarning: \n",
      "A value is trying to be set on a copy of a slice from a DataFrame\n",
      "\n",
      "See the caveats in the documentation: https://pandas.pydata.org/pandas-docs/stable/user_guide/indexing.html#returning-a-view-versus-a-copy\n",
      "  df['class'][pointIDX] = 3\n"
     ]
    },
    {
     "name": "stdout",
     "output_type": "stream",
     "text": [
      "Iteration 11/11\n"
     ]
    },
    {
     "name": "stderr",
     "output_type": "stream",
     "text": [
      "/var/folders/jt/qjvfxd317_s79391s2jnf0w40000gn/T/ipykernel_8019/3358861113.py:10: SettingWithCopyWarning: \n",
      "A value is trying to be set on a copy of a slice from a DataFrame\n",
      "\n",
      "See the caveats in the documentation: https://pandas.pydata.org/pandas-docs/stable/user_guide/indexing.html#returning-a-view-versus-a-copy\n",
      "  df['class'][pointIDX] = 1\n",
      "/var/folders/jt/qjvfxd317_s79391s2jnf0w40000gn/T/ipykernel_8019/3358861113.py:12: SettingWithCopyWarning: \n",
      "A value is trying to be set on a copy of a slice from a DataFrame\n",
      "\n",
      "See the caveats in the documentation: https://pandas.pydata.org/pandas-docs/stable/user_guide/indexing.html#returning-a-view-versus-a-copy\n",
      "  df['class'][pointIDX] = 2\n",
      "/var/folders/jt/qjvfxd317_s79391s2jnf0w40000gn/T/ipykernel_8019/3358861113.py:14: SettingWithCopyWarning: \n",
      "A value is trying to be set on a copy of a slice from a DataFrame\n",
      "\n",
      "See the caveats in the documentation: https://pandas.pydata.org/pandas-docs/stable/user_guide/indexing.html#returning-a-view-versus-a-copy\n",
      "  df['class'][pointIDX] = 3\n"
     ]
    },
    {
     "name": "stdout",
     "output_type": "stream",
     "text": [
      "Iteration 12/12\n"
     ]
    },
    {
     "name": "stderr",
     "output_type": "stream",
     "text": [
      "/var/folders/jt/qjvfxd317_s79391s2jnf0w40000gn/T/ipykernel_8019/3358861113.py:12: SettingWithCopyWarning: \n",
      "A value is trying to be set on a copy of a slice from a DataFrame\n",
      "\n",
      "See the caveats in the documentation: https://pandas.pydata.org/pandas-docs/stable/user_guide/indexing.html#returning-a-view-versus-a-copy\n",
      "  df['class'][pointIDX] = 2\n",
      "/var/folders/jt/qjvfxd317_s79391s2jnf0w40000gn/T/ipykernel_8019/3358861113.py:10: SettingWithCopyWarning: \n",
      "A value is trying to be set on a copy of a slice from a DataFrame\n",
      "\n",
      "See the caveats in the documentation: https://pandas.pydata.org/pandas-docs/stable/user_guide/indexing.html#returning-a-view-versus-a-copy\n",
      "  df['class'][pointIDX] = 1\n",
      "/var/folders/jt/qjvfxd317_s79391s2jnf0w40000gn/T/ipykernel_8019/3358861113.py:14: SettingWithCopyWarning: \n",
      "A value is trying to be set on a copy of a slice from a DataFrame\n",
      "\n",
      "See the caveats in the documentation: https://pandas.pydata.org/pandas-docs/stable/user_guide/indexing.html#returning-a-view-versus-a-copy\n",
      "  df['class'][pointIDX] = 3\n"
     ]
    },
    {
     "name": "stdout",
     "output_type": "stream",
     "text": [
      "Iteration 13/13\n"
     ]
    },
    {
     "name": "stderr",
     "output_type": "stream",
     "text": [
      "/var/folders/jt/qjvfxd317_s79391s2jnf0w40000gn/T/ipykernel_8019/3358861113.py:10: SettingWithCopyWarning: \n",
      "A value is trying to be set on a copy of a slice from a DataFrame\n",
      "\n",
      "See the caveats in the documentation: https://pandas.pydata.org/pandas-docs/stable/user_guide/indexing.html#returning-a-view-versus-a-copy\n",
      "  df['class'][pointIDX] = 1\n",
      "/var/folders/jt/qjvfxd317_s79391s2jnf0w40000gn/T/ipykernel_8019/3358861113.py:12: SettingWithCopyWarning: \n",
      "A value is trying to be set on a copy of a slice from a DataFrame\n",
      "\n",
      "See the caveats in the documentation: https://pandas.pydata.org/pandas-docs/stable/user_guide/indexing.html#returning-a-view-versus-a-copy\n",
      "  df['class'][pointIDX] = 2\n",
      "/var/folders/jt/qjvfxd317_s79391s2jnf0w40000gn/T/ipykernel_8019/3358861113.py:14: SettingWithCopyWarning: \n",
      "A value is trying to be set on a copy of a slice from a DataFrame\n",
      "\n",
      "See the caveats in the documentation: https://pandas.pydata.org/pandas-docs/stable/user_guide/indexing.html#returning-a-view-versus-a-copy\n",
      "  df['class'][pointIDX] = 3\n"
     ]
    },
    {
     "name": "stdout",
     "output_type": "stream",
     "text": [
      "Iteration 14/14\n"
     ]
    },
    {
     "name": "stderr",
     "output_type": "stream",
     "text": [
      "/var/folders/jt/qjvfxd317_s79391s2jnf0w40000gn/T/ipykernel_8019/3358861113.py:12: SettingWithCopyWarning: \n",
      "A value is trying to be set on a copy of a slice from a DataFrame\n",
      "\n",
      "See the caveats in the documentation: https://pandas.pydata.org/pandas-docs/stable/user_guide/indexing.html#returning-a-view-versus-a-copy\n",
      "  df['class'][pointIDX] = 2\n",
      "/var/folders/jt/qjvfxd317_s79391s2jnf0w40000gn/T/ipykernel_8019/3358861113.py:10: SettingWithCopyWarning: \n",
      "A value is trying to be set on a copy of a slice from a DataFrame\n",
      "\n",
      "See the caveats in the documentation: https://pandas.pydata.org/pandas-docs/stable/user_guide/indexing.html#returning-a-view-versus-a-copy\n",
      "  df['class'][pointIDX] = 1\n",
      "/var/folders/jt/qjvfxd317_s79391s2jnf0w40000gn/T/ipykernel_8019/3358861113.py:14: SettingWithCopyWarning: \n",
      "A value is trying to be set on a copy of a slice from a DataFrame\n",
      "\n",
      "See the caveats in the documentation: https://pandas.pydata.org/pandas-docs/stable/user_guide/indexing.html#returning-a-view-versus-a-copy\n",
      "  df['class'][pointIDX] = 3\n"
     ]
    },
    {
     "name": "stdout",
     "output_type": "stream",
     "text": [
      "Iteration 15/15\n"
     ]
    },
    {
     "name": "stderr",
     "output_type": "stream",
     "text": [
      "/var/folders/jt/qjvfxd317_s79391s2jnf0w40000gn/T/ipykernel_8019/3358861113.py:10: SettingWithCopyWarning: \n",
      "A value is trying to be set on a copy of a slice from a DataFrame\n",
      "\n",
      "See the caveats in the documentation: https://pandas.pydata.org/pandas-docs/stable/user_guide/indexing.html#returning-a-view-versus-a-copy\n",
      "  df['class'][pointIDX] = 1\n",
      "/var/folders/jt/qjvfxd317_s79391s2jnf0w40000gn/T/ipykernel_8019/3358861113.py:14: SettingWithCopyWarning: \n",
      "A value is trying to be set on a copy of a slice from a DataFrame\n",
      "\n",
      "See the caveats in the documentation: https://pandas.pydata.org/pandas-docs/stable/user_guide/indexing.html#returning-a-view-versus-a-copy\n",
      "  df['class'][pointIDX] = 3\n",
      "/var/folders/jt/qjvfxd317_s79391s2jnf0w40000gn/T/ipykernel_8019/3358861113.py:12: SettingWithCopyWarning: \n",
      "A value is trying to be set on a copy of a slice from a DataFrame\n",
      "\n",
      "See the caveats in the documentation: https://pandas.pydata.org/pandas-docs/stable/user_guide/indexing.html#returning-a-view-versus-a-copy\n",
      "  df['class'][pointIDX] = 2\n"
     ]
    },
    {
     "name": "stdout",
     "output_type": "stream",
     "text": [
      "Iteration 16/16\n"
     ]
    },
    {
     "name": "stderr",
     "output_type": "stream",
     "text": [
      "/var/folders/jt/qjvfxd317_s79391s2jnf0w40000gn/T/ipykernel_8019/3358861113.py:10: SettingWithCopyWarning: \n",
      "A value is trying to be set on a copy of a slice from a DataFrame\n",
      "\n",
      "See the caveats in the documentation: https://pandas.pydata.org/pandas-docs/stable/user_guide/indexing.html#returning-a-view-versus-a-copy\n",
      "  df['class'][pointIDX] = 1\n",
      "/var/folders/jt/qjvfxd317_s79391s2jnf0w40000gn/T/ipykernel_8019/3358861113.py:12: SettingWithCopyWarning: \n",
      "A value is trying to be set on a copy of a slice from a DataFrame\n",
      "\n",
      "See the caveats in the documentation: https://pandas.pydata.org/pandas-docs/stable/user_guide/indexing.html#returning-a-view-versus-a-copy\n",
      "  df['class'][pointIDX] = 2\n",
      "/var/folders/jt/qjvfxd317_s79391s2jnf0w40000gn/T/ipykernel_8019/3358861113.py:14: SettingWithCopyWarning: \n",
      "A value is trying to be set on a copy of a slice from a DataFrame\n",
      "\n",
      "See the caveats in the documentation: https://pandas.pydata.org/pandas-docs/stable/user_guide/indexing.html#returning-a-view-versus-a-copy\n",
      "  df['class'][pointIDX] = 3\n"
     ]
    },
    {
     "name": "stdout",
     "output_type": "stream",
     "text": [
      "Iteration 17/17\n"
     ]
    },
    {
     "name": "stderr",
     "output_type": "stream",
     "text": [
      "/var/folders/jt/qjvfxd317_s79391s2jnf0w40000gn/T/ipykernel_8019/3358861113.py:10: SettingWithCopyWarning: \n",
      "A value is trying to be set on a copy of a slice from a DataFrame\n",
      "\n",
      "See the caveats in the documentation: https://pandas.pydata.org/pandas-docs/stable/user_guide/indexing.html#returning-a-view-versus-a-copy\n",
      "  df['class'][pointIDX] = 1\n",
      "/var/folders/jt/qjvfxd317_s79391s2jnf0w40000gn/T/ipykernel_8019/3358861113.py:12: SettingWithCopyWarning: \n",
      "A value is trying to be set on a copy of a slice from a DataFrame\n",
      "\n",
      "See the caveats in the documentation: https://pandas.pydata.org/pandas-docs/stable/user_guide/indexing.html#returning-a-view-versus-a-copy\n",
      "  df['class'][pointIDX] = 2\n",
      "/var/folders/jt/qjvfxd317_s79391s2jnf0w40000gn/T/ipykernel_8019/3358861113.py:14: SettingWithCopyWarning: \n",
      "A value is trying to be set on a copy of a slice from a DataFrame\n",
      "\n",
      "See the caveats in the documentation: https://pandas.pydata.org/pandas-docs/stable/user_guide/indexing.html#returning-a-view-versus-a-copy\n",
      "  df['class'][pointIDX] = 3\n"
     ]
    },
    {
     "name": "stdout",
     "output_type": "stream",
     "text": [
      "Iteration 18/18\n"
     ]
    },
    {
     "name": "stderr",
     "output_type": "stream",
     "text": [
      "/var/folders/jt/qjvfxd317_s79391s2jnf0w40000gn/T/ipykernel_8019/3358861113.py:12: SettingWithCopyWarning: \n",
      "A value is trying to be set on a copy of a slice from a DataFrame\n",
      "\n",
      "See the caveats in the documentation: https://pandas.pydata.org/pandas-docs/stable/user_guide/indexing.html#returning-a-view-versus-a-copy\n",
      "  df['class'][pointIDX] = 2\n",
      "/var/folders/jt/qjvfxd317_s79391s2jnf0w40000gn/T/ipykernel_8019/3358861113.py:10: SettingWithCopyWarning: \n",
      "A value is trying to be set on a copy of a slice from a DataFrame\n",
      "\n",
      "See the caveats in the documentation: https://pandas.pydata.org/pandas-docs/stable/user_guide/indexing.html#returning-a-view-versus-a-copy\n",
      "  df['class'][pointIDX] = 1\n",
      "/var/folders/jt/qjvfxd317_s79391s2jnf0w40000gn/T/ipykernel_8019/3358861113.py:14: SettingWithCopyWarning: \n",
      "A value is trying to be set on a copy of a slice from a DataFrame\n",
      "\n",
      "See the caveats in the documentation: https://pandas.pydata.org/pandas-docs/stable/user_guide/indexing.html#returning-a-view-versus-a-copy\n",
      "  df['class'][pointIDX] = 3\n"
     ]
    },
    {
     "name": "stdout",
     "output_type": "stream",
     "text": [
      "Iteration 19/19\n"
     ]
    },
    {
     "name": "stderr",
     "output_type": "stream",
     "text": [
      "/var/folders/jt/qjvfxd317_s79391s2jnf0w40000gn/T/ipykernel_8019/3358861113.py:10: SettingWithCopyWarning: \n",
      "A value is trying to be set on a copy of a slice from a DataFrame\n",
      "\n",
      "See the caveats in the documentation: https://pandas.pydata.org/pandas-docs/stable/user_guide/indexing.html#returning-a-view-versus-a-copy\n",
      "  df['class'][pointIDX] = 1\n",
      "/var/folders/jt/qjvfxd317_s79391s2jnf0w40000gn/T/ipykernel_8019/3358861113.py:12: SettingWithCopyWarning: \n",
      "A value is trying to be set on a copy of a slice from a DataFrame\n",
      "\n",
      "See the caveats in the documentation: https://pandas.pydata.org/pandas-docs/stable/user_guide/indexing.html#returning-a-view-versus-a-copy\n",
      "  df['class'][pointIDX] = 2\n",
      "/var/folders/jt/qjvfxd317_s79391s2jnf0w40000gn/T/ipykernel_8019/3358861113.py:14: SettingWithCopyWarning: \n",
      "A value is trying to be set on a copy of a slice from a DataFrame\n",
      "\n",
      "See the caveats in the documentation: https://pandas.pydata.org/pandas-docs/stable/user_guide/indexing.html#returning-a-view-versus-a-copy\n",
      "  df['class'][pointIDX] = 3\n"
     ]
    },
    {
     "name": "stdout",
     "output_type": "stream",
     "text": [
      "Iteration 20/20\n"
     ]
    },
    {
     "name": "stderr",
     "output_type": "stream",
     "text": [
      "/var/folders/jt/qjvfxd317_s79391s2jnf0w40000gn/T/ipykernel_8019/3358861113.py:12: SettingWithCopyWarning: \n",
      "A value is trying to be set on a copy of a slice from a DataFrame\n",
      "\n",
      "See the caveats in the documentation: https://pandas.pydata.org/pandas-docs/stable/user_guide/indexing.html#returning-a-view-versus-a-copy\n",
      "  df['class'][pointIDX] = 2\n",
      "/var/folders/jt/qjvfxd317_s79391s2jnf0w40000gn/T/ipykernel_8019/3358861113.py:10: SettingWithCopyWarning: \n",
      "A value is trying to be set on a copy of a slice from a DataFrame\n",
      "\n",
      "See the caveats in the documentation: https://pandas.pydata.org/pandas-docs/stable/user_guide/indexing.html#returning-a-view-versus-a-copy\n",
      "  df['class'][pointIDX] = 1\n",
      "/var/folders/jt/qjvfxd317_s79391s2jnf0w40000gn/T/ipykernel_8019/3358861113.py:14: SettingWithCopyWarning: \n",
      "A value is trying to be set on a copy of a slice from a DataFrame\n",
      "\n",
      "See the caveats in the documentation: https://pandas.pydata.org/pandas-docs/stable/user_guide/indexing.html#returning-a-view-versus-a-copy\n",
      "  df['class'][pointIDX] = 3\n"
     ]
    },
    {
     "name": "stdout",
     "output_type": "stream",
     "text": [
      "Iteration 21/21\n"
     ]
    },
    {
     "name": "stderr",
     "output_type": "stream",
     "text": [
      "/var/folders/jt/qjvfxd317_s79391s2jnf0w40000gn/T/ipykernel_8019/3358861113.py:10: SettingWithCopyWarning: \n",
      "A value is trying to be set on a copy of a slice from a DataFrame\n",
      "\n",
      "See the caveats in the documentation: https://pandas.pydata.org/pandas-docs/stable/user_guide/indexing.html#returning-a-view-versus-a-copy\n",
      "  df['class'][pointIDX] = 1\n",
      "/var/folders/jt/qjvfxd317_s79391s2jnf0w40000gn/T/ipykernel_8019/3358861113.py:14: SettingWithCopyWarning: \n",
      "A value is trying to be set on a copy of a slice from a DataFrame\n",
      "\n",
      "See the caveats in the documentation: https://pandas.pydata.org/pandas-docs/stable/user_guide/indexing.html#returning-a-view-versus-a-copy\n",
      "  df['class'][pointIDX] = 3\n",
      "/var/folders/jt/qjvfxd317_s79391s2jnf0w40000gn/T/ipykernel_8019/3358861113.py:12: SettingWithCopyWarning: \n",
      "A value is trying to be set on a copy of a slice from a DataFrame\n",
      "\n",
      "See the caveats in the documentation: https://pandas.pydata.org/pandas-docs/stable/user_guide/indexing.html#returning-a-view-versus-a-copy\n",
      "  df['class'][pointIDX] = 2\n"
     ]
    },
    {
     "name": "stdout",
     "output_type": "stream",
     "text": [
      "Iteration 22/22\n"
     ]
    },
    {
     "name": "stderr",
     "output_type": "stream",
     "text": [
      "/var/folders/jt/qjvfxd317_s79391s2jnf0w40000gn/T/ipykernel_8019/3358861113.py:10: SettingWithCopyWarning: \n",
      "A value is trying to be set on a copy of a slice from a DataFrame\n",
      "\n",
      "See the caveats in the documentation: https://pandas.pydata.org/pandas-docs/stable/user_guide/indexing.html#returning-a-view-versus-a-copy\n",
      "  df['class'][pointIDX] = 1\n",
      "/var/folders/jt/qjvfxd317_s79391s2jnf0w40000gn/T/ipykernel_8019/3358861113.py:12: SettingWithCopyWarning: \n",
      "A value is trying to be set on a copy of a slice from a DataFrame\n",
      "\n",
      "See the caveats in the documentation: https://pandas.pydata.org/pandas-docs/stable/user_guide/indexing.html#returning-a-view-versus-a-copy\n",
      "  df['class'][pointIDX] = 2\n",
      "/var/folders/jt/qjvfxd317_s79391s2jnf0w40000gn/T/ipykernel_8019/3358861113.py:14: SettingWithCopyWarning: \n",
      "A value is trying to be set on a copy of a slice from a DataFrame\n",
      "\n",
      "See the caveats in the documentation: https://pandas.pydata.org/pandas-docs/stable/user_guide/indexing.html#returning-a-view-versus-a-copy\n",
      "  df['class'][pointIDX] = 3\n"
     ]
    },
    {
     "name": "stdout",
     "output_type": "stream",
     "text": [
      "Iteration 23/23\n"
     ]
    },
    {
     "name": "stderr",
     "output_type": "stream",
     "text": [
      "/var/folders/jt/qjvfxd317_s79391s2jnf0w40000gn/T/ipykernel_8019/3358861113.py:10: SettingWithCopyWarning: \n",
      "A value is trying to be set on a copy of a slice from a DataFrame\n",
      "\n",
      "See the caveats in the documentation: https://pandas.pydata.org/pandas-docs/stable/user_guide/indexing.html#returning-a-view-versus-a-copy\n",
      "  df['class'][pointIDX] = 1\n",
      "/var/folders/jt/qjvfxd317_s79391s2jnf0w40000gn/T/ipykernel_8019/3358861113.py:12: SettingWithCopyWarning: \n",
      "A value is trying to be set on a copy of a slice from a DataFrame\n",
      "\n",
      "See the caveats in the documentation: https://pandas.pydata.org/pandas-docs/stable/user_guide/indexing.html#returning-a-view-versus-a-copy\n",
      "  df['class'][pointIDX] = 2\n",
      "/var/folders/jt/qjvfxd317_s79391s2jnf0w40000gn/T/ipykernel_8019/3358861113.py:14: SettingWithCopyWarning: \n",
      "A value is trying to be set on a copy of a slice from a DataFrame\n",
      "\n",
      "See the caveats in the documentation: https://pandas.pydata.org/pandas-docs/stable/user_guide/indexing.html#returning-a-view-versus-a-copy\n",
      "  df['class'][pointIDX] = 3\n"
     ]
    },
    {
     "name": "stdout",
     "output_type": "stream",
     "text": [
      "Iteration 24/24\n"
     ]
    },
    {
     "name": "stderr",
     "output_type": "stream",
     "text": [
      "/var/folders/jt/qjvfxd317_s79391s2jnf0w40000gn/T/ipykernel_8019/3358861113.py:12: SettingWithCopyWarning: \n",
      "A value is trying to be set on a copy of a slice from a DataFrame\n",
      "\n",
      "See the caveats in the documentation: https://pandas.pydata.org/pandas-docs/stable/user_guide/indexing.html#returning-a-view-versus-a-copy\n",
      "  df['class'][pointIDX] = 2\n",
      "/var/folders/jt/qjvfxd317_s79391s2jnf0w40000gn/T/ipykernel_8019/3358861113.py:10: SettingWithCopyWarning: \n",
      "A value is trying to be set on a copy of a slice from a DataFrame\n",
      "\n",
      "See the caveats in the documentation: https://pandas.pydata.org/pandas-docs/stable/user_guide/indexing.html#returning-a-view-versus-a-copy\n",
      "  df['class'][pointIDX] = 1\n",
      "/var/folders/jt/qjvfxd317_s79391s2jnf0w40000gn/T/ipykernel_8019/3358861113.py:14: SettingWithCopyWarning: \n",
      "A value is trying to be set on a copy of a slice from a DataFrame\n",
      "\n",
      "See the caveats in the documentation: https://pandas.pydata.org/pandas-docs/stable/user_guide/indexing.html#returning-a-view-versus-a-copy\n",
      "  df['class'][pointIDX] = 3\n"
     ]
    },
    {
     "name": "stdout",
     "output_type": "stream",
     "text": [
      "Iteration 25/25\n"
     ]
    },
    {
     "name": "stderr",
     "output_type": "stream",
     "text": [
      "/var/folders/jt/qjvfxd317_s79391s2jnf0w40000gn/T/ipykernel_8019/3358861113.py:10: SettingWithCopyWarning: \n",
      "A value is trying to be set on a copy of a slice from a DataFrame\n",
      "\n",
      "See the caveats in the documentation: https://pandas.pydata.org/pandas-docs/stable/user_guide/indexing.html#returning-a-view-versus-a-copy\n",
      "  df['class'][pointIDX] = 1\n",
      "/var/folders/jt/qjvfxd317_s79391s2jnf0w40000gn/T/ipykernel_8019/3358861113.py:12: SettingWithCopyWarning: \n",
      "A value is trying to be set on a copy of a slice from a DataFrame\n",
      "\n",
      "See the caveats in the documentation: https://pandas.pydata.org/pandas-docs/stable/user_guide/indexing.html#returning-a-view-versus-a-copy\n",
      "  df['class'][pointIDX] = 2\n",
      "/var/folders/jt/qjvfxd317_s79391s2jnf0w40000gn/T/ipykernel_8019/3358861113.py:14: SettingWithCopyWarning: \n",
      "A value is trying to be set on a copy of a slice from a DataFrame\n",
      "\n",
      "See the caveats in the documentation: https://pandas.pydata.org/pandas-docs/stable/user_guide/indexing.html#returning-a-view-versus-a-copy\n",
      "  df['class'][pointIDX] = 3\n"
     ]
    },
    {
     "name": "stdout",
     "output_type": "stream",
     "text": [
      "Iteration 26/26\n"
     ]
    },
    {
     "name": "stderr",
     "output_type": "stream",
     "text": [
      "/var/folders/jt/qjvfxd317_s79391s2jnf0w40000gn/T/ipykernel_8019/3358861113.py:12: SettingWithCopyWarning: \n",
      "A value is trying to be set on a copy of a slice from a DataFrame\n",
      "\n",
      "See the caveats in the documentation: https://pandas.pydata.org/pandas-docs/stable/user_guide/indexing.html#returning-a-view-versus-a-copy\n",
      "  df['class'][pointIDX] = 2\n",
      "/var/folders/jt/qjvfxd317_s79391s2jnf0w40000gn/T/ipykernel_8019/3358861113.py:10: SettingWithCopyWarning: \n",
      "A value is trying to be set on a copy of a slice from a DataFrame\n",
      "\n",
      "See the caveats in the documentation: https://pandas.pydata.org/pandas-docs/stable/user_guide/indexing.html#returning-a-view-versus-a-copy\n",
      "  df['class'][pointIDX] = 1\n",
      "/var/folders/jt/qjvfxd317_s79391s2jnf0w40000gn/T/ipykernel_8019/3358861113.py:14: SettingWithCopyWarning: \n",
      "A value is trying to be set on a copy of a slice from a DataFrame\n",
      "\n",
      "See the caveats in the documentation: https://pandas.pydata.org/pandas-docs/stable/user_guide/indexing.html#returning-a-view-versus-a-copy\n",
      "  df['class'][pointIDX] = 3\n"
     ]
    },
    {
     "name": "stdout",
     "output_type": "stream",
     "text": [
      "Iteration 27/27\n"
     ]
    },
    {
     "name": "stderr",
     "output_type": "stream",
     "text": [
      "/var/folders/jt/qjvfxd317_s79391s2jnf0w40000gn/T/ipykernel_8019/3358861113.py:10: SettingWithCopyWarning: \n",
      "A value is trying to be set on a copy of a slice from a DataFrame\n",
      "\n",
      "See the caveats in the documentation: https://pandas.pydata.org/pandas-docs/stable/user_guide/indexing.html#returning-a-view-versus-a-copy\n",
      "  df['class'][pointIDX] = 1\n",
      "/var/folders/jt/qjvfxd317_s79391s2jnf0w40000gn/T/ipykernel_8019/3358861113.py:14: SettingWithCopyWarning: \n",
      "A value is trying to be set on a copy of a slice from a DataFrame\n",
      "\n",
      "See the caveats in the documentation: https://pandas.pydata.org/pandas-docs/stable/user_guide/indexing.html#returning-a-view-versus-a-copy\n",
      "  df['class'][pointIDX] = 3\n",
      "/var/folders/jt/qjvfxd317_s79391s2jnf0w40000gn/T/ipykernel_8019/3358861113.py:12: SettingWithCopyWarning: \n",
      "A value is trying to be set on a copy of a slice from a DataFrame\n",
      "\n",
      "See the caveats in the documentation: https://pandas.pydata.org/pandas-docs/stable/user_guide/indexing.html#returning-a-view-versus-a-copy\n",
      "  df['class'][pointIDX] = 2\n"
     ]
    },
    {
     "name": "stdout",
     "output_type": "stream",
     "text": [
      "Iteration 28/28\n"
     ]
    },
    {
     "name": "stderr",
     "output_type": "stream",
     "text": [
      "/var/folders/jt/qjvfxd317_s79391s2jnf0w40000gn/T/ipykernel_8019/3358861113.py:10: SettingWithCopyWarning: \n",
      "A value is trying to be set on a copy of a slice from a DataFrame\n",
      "\n",
      "See the caveats in the documentation: https://pandas.pydata.org/pandas-docs/stable/user_guide/indexing.html#returning-a-view-versus-a-copy\n",
      "  df['class'][pointIDX] = 1\n",
      "/var/folders/jt/qjvfxd317_s79391s2jnf0w40000gn/T/ipykernel_8019/3358861113.py:12: SettingWithCopyWarning: \n",
      "A value is trying to be set on a copy of a slice from a DataFrame\n",
      "\n",
      "See the caveats in the documentation: https://pandas.pydata.org/pandas-docs/stable/user_guide/indexing.html#returning-a-view-versus-a-copy\n",
      "  df['class'][pointIDX] = 2\n",
      "/var/folders/jt/qjvfxd317_s79391s2jnf0w40000gn/T/ipykernel_8019/3358861113.py:14: SettingWithCopyWarning: \n",
      "A value is trying to be set on a copy of a slice from a DataFrame\n",
      "\n",
      "See the caveats in the documentation: https://pandas.pydata.org/pandas-docs/stable/user_guide/indexing.html#returning-a-view-versus-a-copy\n",
      "  df['class'][pointIDX] = 3\n"
     ]
    },
    {
     "name": "stdout",
     "output_type": "stream",
     "text": [
      "Iteration 29/29\n"
     ]
    },
    {
     "name": "stderr",
     "output_type": "stream",
     "text": [
      "/var/folders/jt/qjvfxd317_s79391s2jnf0w40000gn/T/ipykernel_8019/3358861113.py:10: SettingWithCopyWarning: \n",
      "A value is trying to be set on a copy of a slice from a DataFrame\n",
      "\n",
      "See the caveats in the documentation: https://pandas.pydata.org/pandas-docs/stable/user_guide/indexing.html#returning-a-view-versus-a-copy\n",
      "  df['class'][pointIDX] = 1\n",
      "/var/folders/jt/qjvfxd317_s79391s2jnf0w40000gn/T/ipykernel_8019/3358861113.py:12: SettingWithCopyWarning: \n",
      "A value is trying to be set on a copy of a slice from a DataFrame\n",
      "\n",
      "See the caveats in the documentation: https://pandas.pydata.org/pandas-docs/stable/user_guide/indexing.html#returning-a-view-versus-a-copy\n",
      "  df['class'][pointIDX] = 2\n",
      "/var/folders/jt/qjvfxd317_s79391s2jnf0w40000gn/T/ipykernel_8019/3358861113.py:14: SettingWithCopyWarning: \n",
      "A value is trying to be set on a copy of a slice from a DataFrame\n",
      "\n",
      "See the caveats in the documentation: https://pandas.pydata.org/pandas-docs/stable/user_guide/indexing.html#returning-a-view-versus-a-copy\n",
      "  df['class'][pointIDX] = 3\n"
     ]
    },
    {
     "name": "stdout",
     "output_type": "stream",
     "text": [
      "Iteration 30/30\n"
     ]
    },
    {
     "name": "stderr",
     "output_type": "stream",
     "text": [
      "/var/folders/jt/qjvfxd317_s79391s2jnf0w40000gn/T/ipykernel_8019/3358861113.py:12: SettingWithCopyWarning: \n",
      "A value is trying to be set on a copy of a slice from a DataFrame\n",
      "\n",
      "See the caveats in the documentation: https://pandas.pydata.org/pandas-docs/stable/user_guide/indexing.html#returning-a-view-versus-a-copy\n",
      "  df['class'][pointIDX] = 2\n",
      "/var/folders/jt/qjvfxd317_s79391s2jnf0w40000gn/T/ipykernel_8019/3358861113.py:10: SettingWithCopyWarning: \n",
      "A value is trying to be set on a copy of a slice from a DataFrame\n",
      "\n",
      "See the caveats in the documentation: https://pandas.pydata.org/pandas-docs/stable/user_guide/indexing.html#returning-a-view-versus-a-copy\n",
      "  df['class'][pointIDX] = 1\n",
      "/var/folders/jt/qjvfxd317_s79391s2jnf0w40000gn/T/ipykernel_8019/3358861113.py:14: SettingWithCopyWarning: \n",
      "A value is trying to be set on a copy of a slice from a DataFrame\n",
      "\n",
      "See the caveats in the documentation: https://pandas.pydata.org/pandas-docs/stable/user_guide/indexing.html#returning-a-view-versus-a-copy\n",
      "  df['class'][pointIDX] = 3\n"
     ]
    },
    {
     "name": "stdout",
     "output_type": "stream",
     "text": [
      "Iteration 31/31\n"
     ]
    },
    {
     "name": "stderr",
     "output_type": "stream",
     "text": [
      "/var/folders/jt/qjvfxd317_s79391s2jnf0w40000gn/T/ipykernel_8019/3358861113.py:10: SettingWithCopyWarning: \n",
      "A value is trying to be set on a copy of a slice from a DataFrame\n",
      "\n",
      "See the caveats in the documentation: https://pandas.pydata.org/pandas-docs/stable/user_guide/indexing.html#returning-a-view-versus-a-copy\n",
      "  df['class'][pointIDX] = 1\n",
      "/var/folders/jt/qjvfxd317_s79391s2jnf0w40000gn/T/ipykernel_8019/3358861113.py:12: SettingWithCopyWarning: \n",
      "A value is trying to be set on a copy of a slice from a DataFrame\n",
      "\n",
      "See the caveats in the documentation: https://pandas.pydata.org/pandas-docs/stable/user_guide/indexing.html#returning-a-view-versus-a-copy\n",
      "  df['class'][pointIDX] = 2\n",
      "/var/folders/jt/qjvfxd317_s79391s2jnf0w40000gn/T/ipykernel_8019/3358861113.py:14: SettingWithCopyWarning: \n",
      "A value is trying to be set on a copy of a slice from a DataFrame\n",
      "\n",
      "See the caveats in the documentation: https://pandas.pydata.org/pandas-docs/stable/user_guide/indexing.html#returning-a-view-versus-a-copy\n",
      "  df['class'][pointIDX] = 3\n"
     ]
    },
    {
     "name": "stdout",
     "output_type": "stream",
     "text": [
      "Iteration 32/32\n"
     ]
    },
    {
     "name": "stderr",
     "output_type": "stream",
     "text": [
      "/var/folders/jt/qjvfxd317_s79391s2jnf0w40000gn/T/ipykernel_8019/3358861113.py:12: SettingWithCopyWarning: \n",
      "A value is trying to be set on a copy of a slice from a DataFrame\n",
      "\n",
      "See the caveats in the documentation: https://pandas.pydata.org/pandas-docs/stable/user_guide/indexing.html#returning-a-view-versus-a-copy\n",
      "  df['class'][pointIDX] = 2\n",
      "/var/folders/jt/qjvfxd317_s79391s2jnf0w40000gn/T/ipykernel_8019/3358861113.py:10: SettingWithCopyWarning: \n",
      "A value is trying to be set on a copy of a slice from a DataFrame\n",
      "\n",
      "See the caveats in the documentation: https://pandas.pydata.org/pandas-docs/stable/user_guide/indexing.html#returning-a-view-versus-a-copy\n",
      "  df['class'][pointIDX] = 1\n",
      "/var/folders/jt/qjvfxd317_s79391s2jnf0w40000gn/T/ipykernel_8019/3358861113.py:14: SettingWithCopyWarning: \n",
      "A value is trying to be set on a copy of a slice from a DataFrame\n",
      "\n",
      "See the caveats in the documentation: https://pandas.pydata.org/pandas-docs/stable/user_guide/indexing.html#returning-a-view-versus-a-copy\n",
      "  df['class'][pointIDX] = 3\n"
     ]
    },
    {
     "name": "stdout",
     "output_type": "stream",
     "text": [
      "Iteration 33/33\n"
     ]
    },
    {
     "name": "stderr",
     "output_type": "stream",
     "text": [
      "/var/folders/jt/qjvfxd317_s79391s2jnf0w40000gn/T/ipykernel_8019/3358861113.py:10: SettingWithCopyWarning: \n",
      "A value is trying to be set on a copy of a slice from a DataFrame\n",
      "\n",
      "See the caveats in the documentation: https://pandas.pydata.org/pandas-docs/stable/user_guide/indexing.html#returning-a-view-versus-a-copy\n",
      "  df['class'][pointIDX] = 1\n",
      "/var/folders/jt/qjvfxd317_s79391s2jnf0w40000gn/T/ipykernel_8019/3358861113.py:14: SettingWithCopyWarning: \n",
      "A value is trying to be set on a copy of a slice from a DataFrame\n",
      "\n",
      "See the caveats in the documentation: https://pandas.pydata.org/pandas-docs/stable/user_guide/indexing.html#returning-a-view-versus-a-copy\n",
      "  df['class'][pointIDX] = 3\n",
      "/var/folders/jt/qjvfxd317_s79391s2jnf0w40000gn/T/ipykernel_8019/3358861113.py:12: SettingWithCopyWarning: \n",
      "A value is trying to be set on a copy of a slice from a DataFrame\n",
      "\n",
      "See the caveats in the documentation: https://pandas.pydata.org/pandas-docs/stable/user_guide/indexing.html#returning-a-view-versus-a-copy\n",
      "  df['class'][pointIDX] = 2\n"
     ]
    },
    {
     "name": "stdout",
     "output_type": "stream",
     "text": [
      "Iteration 34/34\n"
     ]
    },
    {
     "name": "stderr",
     "output_type": "stream",
     "text": [
      "/var/folders/jt/qjvfxd317_s79391s2jnf0w40000gn/T/ipykernel_8019/3358861113.py:10: SettingWithCopyWarning: \n",
      "A value is trying to be set on a copy of a slice from a DataFrame\n",
      "\n",
      "See the caveats in the documentation: https://pandas.pydata.org/pandas-docs/stable/user_guide/indexing.html#returning-a-view-versus-a-copy\n",
      "  df['class'][pointIDX] = 1\n",
      "/var/folders/jt/qjvfxd317_s79391s2jnf0w40000gn/T/ipykernel_8019/3358861113.py:12: SettingWithCopyWarning: \n",
      "A value is trying to be set on a copy of a slice from a DataFrame\n",
      "\n",
      "See the caveats in the documentation: https://pandas.pydata.org/pandas-docs/stable/user_guide/indexing.html#returning-a-view-versus-a-copy\n",
      "  df['class'][pointIDX] = 2\n",
      "/var/folders/jt/qjvfxd317_s79391s2jnf0w40000gn/T/ipykernel_8019/3358861113.py:14: SettingWithCopyWarning: \n",
      "A value is trying to be set on a copy of a slice from a DataFrame\n",
      "\n",
      "See the caveats in the documentation: https://pandas.pydata.org/pandas-docs/stable/user_guide/indexing.html#returning-a-view-versus-a-copy\n",
      "  df['class'][pointIDX] = 3\n"
     ]
    },
    {
     "name": "stdout",
     "output_type": "stream",
     "text": [
      "Iteration 35/35\n"
     ]
    },
    {
     "name": "stderr",
     "output_type": "stream",
     "text": [
      "/var/folders/jt/qjvfxd317_s79391s2jnf0w40000gn/T/ipykernel_8019/3358861113.py:10: SettingWithCopyWarning: \n",
      "A value is trying to be set on a copy of a slice from a DataFrame\n",
      "\n",
      "See the caveats in the documentation: https://pandas.pydata.org/pandas-docs/stable/user_guide/indexing.html#returning-a-view-versus-a-copy\n",
      "  df['class'][pointIDX] = 1\n",
      "/var/folders/jt/qjvfxd317_s79391s2jnf0w40000gn/T/ipykernel_8019/3358861113.py:12: SettingWithCopyWarning: \n",
      "A value is trying to be set on a copy of a slice from a DataFrame\n",
      "\n",
      "See the caveats in the documentation: https://pandas.pydata.org/pandas-docs/stable/user_guide/indexing.html#returning-a-view-versus-a-copy\n",
      "  df['class'][pointIDX] = 2\n",
      "/var/folders/jt/qjvfxd317_s79391s2jnf0w40000gn/T/ipykernel_8019/3358861113.py:14: SettingWithCopyWarning: \n",
      "A value is trying to be set on a copy of a slice from a DataFrame\n",
      "\n",
      "See the caveats in the documentation: https://pandas.pydata.org/pandas-docs/stable/user_guide/indexing.html#returning-a-view-versus-a-copy\n",
      "  df['class'][pointIDX] = 3\n"
     ]
    },
    {
     "name": "stdout",
     "output_type": "stream",
     "text": [
      "Iteration 36/36\n"
     ]
    },
    {
     "name": "stderr",
     "output_type": "stream",
     "text": [
      "/var/folders/jt/qjvfxd317_s79391s2jnf0w40000gn/T/ipykernel_8019/3358861113.py:12: SettingWithCopyWarning: \n",
      "A value is trying to be set on a copy of a slice from a DataFrame\n",
      "\n",
      "See the caveats in the documentation: https://pandas.pydata.org/pandas-docs/stable/user_guide/indexing.html#returning-a-view-versus-a-copy\n",
      "  df['class'][pointIDX] = 2\n",
      "/var/folders/jt/qjvfxd317_s79391s2jnf0w40000gn/T/ipykernel_8019/3358861113.py:10: SettingWithCopyWarning: \n",
      "A value is trying to be set on a copy of a slice from a DataFrame\n",
      "\n",
      "See the caveats in the documentation: https://pandas.pydata.org/pandas-docs/stable/user_guide/indexing.html#returning-a-view-versus-a-copy\n",
      "  df['class'][pointIDX] = 1\n",
      "/var/folders/jt/qjvfxd317_s79391s2jnf0w40000gn/T/ipykernel_8019/3358861113.py:14: SettingWithCopyWarning: \n",
      "A value is trying to be set on a copy of a slice from a DataFrame\n",
      "\n",
      "See the caveats in the documentation: https://pandas.pydata.org/pandas-docs/stable/user_guide/indexing.html#returning-a-view-versus-a-copy\n",
      "  df['class'][pointIDX] = 3\n"
     ]
    },
    {
     "name": "stdout",
     "output_type": "stream",
     "text": [
      "Iteration 37/37\n"
     ]
    },
    {
     "name": "stderr",
     "output_type": "stream",
     "text": [
      "/var/folders/jt/qjvfxd317_s79391s2jnf0w40000gn/T/ipykernel_8019/3358861113.py:10: SettingWithCopyWarning: \n",
      "A value is trying to be set on a copy of a slice from a DataFrame\n",
      "\n",
      "See the caveats in the documentation: https://pandas.pydata.org/pandas-docs/stable/user_guide/indexing.html#returning-a-view-versus-a-copy\n",
      "  df['class'][pointIDX] = 1\n",
      "/var/folders/jt/qjvfxd317_s79391s2jnf0w40000gn/T/ipykernel_8019/3358861113.py:12: SettingWithCopyWarning: \n",
      "A value is trying to be set on a copy of a slice from a DataFrame\n",
      "\n",
      "See the caveats in the documentation: https://pandas.pydata.org/pandas-docs/stable/user_guide/indexing.html#returning-a-view-versus-a-copy\n",
      "  df['class'][pointIDX] = 2\n",
      "/var/folders/jt/qjvfxd317_s79391s2jnf0w40000gn/T/ipykernel_8019/3358861113.py:14: SettingWithCopyWarning: \n",
      "A value is trying to be set on a copy of a slice from a DataFrame\n",
      "\n",
      "See the caveats in the documentation: https://pandas.pydata.org/pandas-docs/stable/user_guide/indexing.html#returning-a-view-versus-a-copy\n",
      "  df['class'][pointIDX] = 3\n"
     ]
    },
    {
     "name": "stdout",
     "output_type": "stream",
     "text": [
      "Iteration 38/38\n"
     ]
    },
    {
     "name": "stderr",
     "output_type": "stream",
     "text": [
      "/var/folders/jt/qjvfxd317_s79391s2jnf0w40000gn/T/ipykernel_8019/3358861113.py:12: SettingWithCopyWarning: \n",
      "A value is trying to be set on a copy of a slice from a DataFrame\n",
      "\n",
      "See the caveats in the documentation: https://pandas.pydata.org/pandas-docs/stable/user_guide/indexing.html#returning-a-view-versus-a-copy\n",
      "  df['class'][pointIDX] = 2\n",
      "/var/folders/jt/qjvfxd317_s79391s2jnf0w40000gn/T/ipykernel_8019/3358861113.py:10: SettingWithCopyWarning: \n",
      "A value is trying to be set on a copy of a slice from a DataFrame\n",
      "\n",
      "See the caveats in the documentation: https://pandas.pydata.org/pandas-docs/stable/user_guide/indexing.html#returning-a-view-versus-a-copy\n",
      "  df['class'][pointIDX] = 1\n",
      "/var/folders/jt/qjvfxd317_s79391s2jnf0w40000gn/T/ipykernel_8019/3358861113.py:14: SettingWithCopyWarning: \n",
      "A value is trying to be set on a copy of a slice from a DataFrame\n",
      "\n",
      "See the caveats in the documentation: https://pandas.pydata.org/pandas-docs/stable/user_guide/indexing.html#returning-a-view-versus-a-copy\n",
      "  df['class'][pointIDX] = 3\n"
     ]
    },
    {
     "name": "stdout",
     "output_type": "stream",
     "text": [
      "Iteration 39/39\n"
     ]
    },
    {
     "name": "stderr",
     "output_type": "stream",
     "text": [
      "/var/folders/jt/qjvfxd317_s79391s2jnf0w40000gn/T/ipykernel_8019/3358861113.py:10: SettingWithCopyWarning: \n",
      "A value is trying to be set on a copy of a slice from a DataFrame\n",
      "\n",
      "See the caveats in the documentation: https://pandas.pydata.org/pandas-docs/stable/user_guide/indexing.html#returning-a-view-versus-a-copy\n",
      "  df['class'][pointIDX] = 1\n",
      "/var/folders/jt/qjvfxd317_s79391s2jnf0w40000gn/T/ipykernel_8019/3358861113.py:14: SettingWithCopyWarning: \n",
      "A value is trying to be set on a copy of a slice from a DataFrame\n",
      "\n",
      "See the caveats in the documentation: https://pandas.pydata.org/pandas-docs/stable/user_guide/indexing.html#returning-a-view-versus-a-copy\n",
      "  df['class'][pointIDX] = 3\n",
      "/var/folders/jt/qjvfxd317_s79391s2jnf0w40000gn/T/ipykernel_8019/3358861113.py:12: SettingWithCopyWarning: \n",
      "A value is trying to be set on a copy of a slice from a DataFrame\n",
      "\n",
      "See the caveats in the documentation: https://pandas.pydata.org/pandas-docs/stable/user_guide/indexing.html#returning-a-view-versus-a-copy\n",
      "  df['class'][pointIDX] = 2\n"
     ]
    },
    {
     "name": "stdout",
     "output_type": "stream",
     "text": [
      "Iteration 40/40\n"
     ]
    },
    {
     "name": "stderr",
     "output_type": "stream",
     "text": [
      "/var/folders/jt/qjvfxd317_s79391s2jnf0w40000gn/T/ipykernel_8019/3358861113.py:10: SettingWithCopyWarning: \n",
      "A value is trying to be set on a copy of a slice from a DataFrame\n",
      "\n",
      "See the caveats in the documentation: https://pandas.pydata.org/pandas-docs/stable/user_guide/indexing.html#returning-a-view-versus-a-copy\n",
      "  df['class'][pointIDX] = 1\n",
      "/var/folders/jt/qjvfxd317_s79391s2jnf0w40000gn/T/ipykernel_8019/3358861113.py:12: SettingWithCopyWarning: \n",
      "A value is trying to be set on a copy of a slice from a DataFrame\n",
      "\n",
      "See the caveats in the documentation: https://pandas.pydata.org/pandas-docs/stable/user_guide/indexing.html#returning-a-view-versus-a-copy\n",
      "  df['class'][pointIDX] = 2\n",
      "/var/folders/jt/qjvfxd317_s79391s2jnf0w40000gn/T/ipykernel_8019/3358861113.py:14: SettingWithCopyWarning: \n",
      "A value is trying to be set on a copy of a slice from a DataFrame\n",
      "\n",
      "See the caveats in the documentation: https://pandas.pydata.org/pandas-docs/stable/user_guide/indexing.html#returning-a-view-versus-a-copy\n",
      "  df['class'][pointIDX] = 3\n"
     ]
    },
    {
     "name": "stdout",
     "output_type": "stream",
     "text": [
      "Iteration 41/41\n"
     ]
    },
    {
     "name": "stderr",
     "output_type": "stream",
     "text": [
      "/var/folders/jt/qjvfxd317_s79391s2jnf0w40000gn/T/ipykernel_8019/3358861113.py:10: SettingWithCopyWarning: \n",
      "A value is trying to be set on a copy of a slice from a DataFrame\n",
      "\n",
      "See the caveats in the documentation: https://pandas.pydata.org/pandas-docs/stable/user_guide/indexing.html#returning-a-view-versus-a-copy\n",
      "  df['class'][pointIDX] = 1\n",
      "/var/folders/jt/qjvfxd317_s79391s2jnf0w40000gn/T/ipykernel_8019/3358861113.py:12: SettingWithCopyWarning: \n",
      "A value is trying to be set on a copy of a slice from a DataFrame\n",
      "\n",
      "See the caveats in the documentation: https://pandas.pydata.org/pandas-docs/stable/user_guide/indexing.html#returning-a-view-versus-a-copy\n",
      "  df['class'][pointIDX] = 2\n",
      "/var/folders/jt/qjvfxd317_s79391s2jnf0w40000gn/T/ipykernel_8019/3358861113.py:14: SettingWithCopyWarning: \n",
      "A value is trying to be set on a copy of a slice from a DataFrame\n",
      "\n",
      "See the caveats in the documentation: https://pandas.pydata.org/pandas-docs/stable/user_guide/indexing.html#returning-a-view-versus-a-copy\n",
      "  df['class'][pointIDX] = 3\n"
     ]
    },
    {
     "name": "stdout",
     "output_type": "stream",
     "text": [
      "Iteration 42/42\n"
     ]
    },
    {
     "name": "stderr",
     "output_type": "stream",
     "text": [
      "/var/folders/jt/qjvfxd317_s79391s2jnf0w40000gn/T/ipykernel_8019/3358861113.py:12: SettingWithCopyWarning: \n",
      "A value is trying to be set on a copy of a slice from a DataFrame\n",
      "\n",
      "See the caveats in the documentation: https://pandas.pydata.org/pandas-docs/stable/user_guide/indexing.html#returning-a-view-versus-a-copy\n",
      "  df['class'][pointIDX] = 2\n",
      "/var/folders/jt/qjvfxd317_s79391s2jnf0w40000gn/T/ipykernel_8019/3358861113.py:10: SettingWithCopyWarning: \n",
      "A value is trying to be set on a copy of a slice from a DataFrame\n",
      "\n",
      "See the caveats in the documentation: https://pandas.pydata.org/pandas-docs/stable/user_guide/indexing.html#returning-a-view-versus-a-copy\n",
      "  df['class'][pointIDX] = 1\n",
      "/var/folders/jt/qjvfxd317_s79391s2jnf0w40000gn/T/ipykernel_8019/3358861113.py:14: SettingWithCopyWarning: \n",
      "A value is trying to be set on a copy of a slice from a DataFrame\n",
      "\n",
      "See the caveats in the documentation: https://pandas.pydata.org/pandas-docs/stable/user_guide/indexing.html#returning-a-view-versus-a-copy\n",
      "  df['class'][pointIDX] = 3\n"
     ]
    },
    {
     "name": "stdout",
     "output_type": "stream",
     "text": [
      "Iteration 43/43\n"
     ]
    },
    {
     "name": "stderr",
     "output_type": "stream",
     "text": [
      "/var/folders/jt/qjvfxd317_s79391s2jnf0w40000gn/T/ipykernel_8019/3358861113.py:10: SettingWithCopyWarning: \n",
      "A value is trying to be set on a copy of a slice from a DataFrame\n",
      "\n",
      "See the caveats in the documentation: https://pandas.pydata.org/pandas-docs/stable/user_guide/indexing.html#returning-a-view-versus-a-copy\n",
      "  df['class'][pointIDX] = 1\n",
      "/var/folders/jt/qjvfxd317_s79391s2jnf0w40000gn/T/ipykernel_8019/3358861113.py:12: SettingWithCopyWarning: \n",
      "A value is trying to be set on a copy of a slice from a DataFrame\n",
      "\n",
      "See the caveats in the documentation: https://pandas.pydata.org/pandas-docs/stable/user_guide/indexing.html#returning-a-view-versus-a-copy\n",
      "  df['class'][pointIDX] = 2\n",
      "/var/folders/jt/qjvfxd317_s79391s2jnf0w40000gn/T/ipykernel_8019/3358861113.py:14: SettingWithCopyWarning: \n",
      "A value is trying to be set on a copy of a slice from a DataFrame\n",
      "\n",
      "See the caveats in the documentation: https://pandas.pydata.org/pandas-docs/stable/user_guide/indexing.html#returning-a-view-versus-a-copy\n",
      "  df['class'][pointIDX] = 3\n"
     ]
    },
    {
     "name": "stdout",
     "output_type": "stream",
     "text": [
      "Iteration 44/44\n"
     ]
    },
    {
     "name": "stderr",
     "output_type": "stream",
     "text": [
      "/var/folders/jt/qjvfxd317_s79391s2jnf0w40000gn/T/ipykernel_8019/3358861113.py:12: SettingWithCopyWarning: \n",
      "A value is trying to be set on a copy of a slice from a DataFrame\n",
      "\n",
      "See the caveats in the documentation: https://pandas.pydata.org/pandas-docs/stable/user_guide/indexing.html#returning-a-view-versus-a-copy\n",
      "  df['class'][pointIDX] = 2\n",
      "/var/folders/jt/qjvfxd317_s79391s2jnf0w40000gn/T/ipykernel_8019/3358861113.py:10: SettingWithCopyWarning: \n",
      "A value is trying to be set on a copy of a slice from a DataFrame\n",
      "\n",
      "See the caveats in the documentation: https://pandas.pydata.org/pandas-docs/stable/user_guide/indexing.html#returning-a-view-versus-a-copy\n",
      "  df['class'][pointIDX] = 1\n",
      "/var/folders/jt/qjvfxd317_s79391s2jnf0w40000gn/T/ipykernel_8019/3358861113.py:14: SettingWithCopyWarning: \n",
      "A value is trying to be set on a copy of a slice from a DataFrame\n",
      "\n",
      "See the caveats in the documentation: https://pandas.pydata.org/pandas-docs/stable/user_guide/indexing.html#returning-a-view-versus-a-copy\n",
      "  df['class'][pointIDX] = 3\n"
     ]
    },
    {
     "name": "stdout",
     "output_type": "stream",
     "text": [
      "Iteration 45/45\n"
     ]
    },
    {
     "name": "stderr",
     "output_type": "stream",
     "text": [
      "/var/folders/jt/qjvfxd317_s79391s2jnf0w40000gn/T/ipykernel_8019/3358861113.py:10: SettingWithCopyWarning: \n",
      "A value is trying to be set on a copy of a slice from a DataFrame\n",
      "\n",
      "See the caveats in the documentation: https://pandas.pydata.org/pandas-docs/stable/user_guide/indexing.html#returning-a-view-versus-a-copy\n",
      "  df['class'][pointIDX] = 1\n",
      "/var/folders/jt/qjvfxd317_s79391s2jnf0w40000gn/T/ipykernel_8019/3358861113.py:14: SettingWithCopyWarning: \n",
      "A value is trying to be set on a copy of a slice from a DataFrame\n",
      "\n",
      "See the caveats in the documentation: https://pandas.pydata.org/pandas-docs/stable/user_guide/indexing.html#returning-a-view-versus-a-copy\n",
      "  df['class'][pointIDX] = 3\n",
      "/var/folders/jt/qjvfxd317_s79391s2jnf0w40000gn/T/ipykernel_8019/3358861113.py:12: SettingWithCopyWarning: \n",
      "A value is trying to be set on a copy of a slice from a DataFrame\n",
      "\n",
      "See the caveats in the documentation: https://pandas.pydata.org/pandas-docs/stable/user_guide/indexing.html#returning-a-view-versus-a-copy\n",
      "  df['class'][pointIDX] = 2\n"
     ]
    },
    {
     "name": "stdout",
     "output_type": "stream",
     "text": [
      "Iteration 46/46\n"
     ]
    },
    {
     "name": "stderr",
     "output_type": "stream",
     "text": [
      "/var/folders/jt/qjvfxd317_s79391s2jnf0w40000gn/T/ipykernel_8019/3358861113.py:10: SettingWithCopyWarning: \n",
      "A value is trying to be set on a copy of a slice from a DataFrame\n",
      "\n",
      "See the caveats in the documentation: https://pandas.pydata.org/pandas-docs/stable/user_guide/indexing.html#returning-a-view-versus-a-copy\n",
      "  df['class'][pointIDX] = 1\n",
      "/var/folders/jt/qjvfxd317_s79391s2jnf0w40000gn/T/ipykernel_8019/3358861113.py:12: SettingWithCopyWarning: \n",
      "A value is trying to be set on a copy of a slice from a DataFrame\n",
      "\n",
      "See the caveats in the documentation: https://pandas.pydata.org/pandas-docs/stable/user_guide/indexing.html#returning-a-view-versus-a-copy\n",
      "  df['class'][pointIDX] = 2\n",
      "/var/folders/jt/qjvfxd317_s79391s2jnf0w40000gn/T/ipykernel_8019/3358861113.py:14: SettingWithCopyWarning: \n",
      "A value is trying to be set on a copy of a slice from a DataFrame\n",
      "\n",
      "See the caveats in the documentation: https://pandas.pydata.org/pandas-docs/stable/user_guide/indexing.html#returning-a-view-versus-a-copy\n",
      "  df['class'][pointIDX] = 3\n"
     ]
    },
    {
     "name": "stdout",
     "output_type": "stream",
     "text": [
      "Iteration 47/47\n"
     ]
    },
    {
     "name": "stderr",
     "output_type": "stream",
     "text": [
      "/var/folders/jt/qjvfxd317_s79391s2jnf0w40000gn/T/ipykernel_8019/3358861113.py:10: SettingWithCopyWarning: \n",
      "A value is trying to be set on a copy of a slice from a DataFrame\n",
      "\n",
      "See the caveats in the documentation: https://pandas.pydata.org/pandas-docs/stable/user_guide/indexing.html#returning-a-view-versus-a-copy\n",
      "  df['class'][pointIDX] = 1\n",
      "/var/folders/jt/qjvfxd317_s79391s2jnf0w40000gn/T/ipykernel_8019/3358861113.py:12: SettingWithCopyWarning: \n",
      "A value is trying to be set on a copy of a slice from a DataFrame\n",
      "\n",
      "See the caveats in the documentation: https://pandas.pydata.org/pandas-docs/stable/user_guide/indexing.html#returning-a-view-versus-a-copy\n",
      "  df['class'][pointIDX] = 2\n",
      "/var/folders/jt/qjvfxd317_s79391s2jnf0w40000gn/T/ipykernel_8019/3358861113.py:14: SettingWithCopyWarning: \n",
      "A value is trying to be set on a copy of a slice from a DataFrame\n",
      "\n",
      "See the caveats in the documentation: https://pandas.pydata.org/pandas-docs/stable/user_guide/indexing.html#returning-a-view-versus-a-copy\n",
      "  df['class'][pointIDX] = 3\n"
     ]
    },
    {
     "name": "stdout",
     "output_type": "stream",
     "text": [
      "Iteration 48/48\n"
     ]
    },
    {
     "name": "stderr",
     "output_type": "stream",
     "text": [
      "/var/folders/jt/qjvfxd317_s79391s2jnf0w40000gn/T/ipykernel_8019/3358861113.py:12: SettingWithCopyWarning: \n",
      "A value is trying to be set on a copy of a slice from a DataFrame\n",
      "\n",
      "See the caveats in the documentation: https://pandas.pydata.org/pandas-docs/stable/user_guide/indexing.html#returning-a-view-versus-a-copy\n",
      "  df['class'][pointIDX] = 2\n",
      "/var/folders/jt/qjvfxd317_s79391s2jnf0w40000gn/T/ipykernel_8019/3358861113.py:10: SettingWithCopyWarning: \n",
      "A value is trying to be set on a copy of a slice from a DataFrame\n",
      "\n",
      "See the caveats in the documentation: https://pandas.pydata.org/pandas-docs/stable/user_guide/indexing.html#returning-a-view-versus-a-copy\n",
      "  df['class'][pointIDX] = 1\n",
      "/var/folders/jt/qjvfxd317_s79391s2jnf0w40000gn/T/ipykernel_8019/3358861113.py:14: SettingWithCopyWarning: \n",
      "A value is trying to be set on a copy of a slice from a DataFrame\n",
      "\n",
      "See the caveats in the documentation: https://pandas.pydata.org/pandas-docs/stable/user_guide/indexing.html#returning-a-view-versus-a-copy\n",
      "  df['class'][pointIDX] = 3\n"
     ]
    },
    {
     "name": "stdout",
     "output_type": "stream",
     "text": [
      "Iteration 49/49\n"
     ]
    },
    {
     "name": "stderr",
     "output_type": "stream",
     "text": [
      "/var/folders/jt/qjvfxd317_s79391s2jnf0w40000gn/T/ipykernel_8019/3358861113.py:10: SettingWithCopyWarning: \n",
      "A value is trying to be set on a copy of a slice from a DataFrame\n",
      "\n",
      "See the caveats in the documentation: https://pandas.pydata.org/pandas-docs/stable/user_guide/indexing.html#returning-a-view-versus-a-copy\n",
      "  df['class'][pointIDX] = 1\n",
      "/var/folders/jt/qjvfxd317_s79391s2jnf0w40000gn/T/ipykernel_8019/3358861113.py:12: SettingWithCopyWarning: \n",
      "A value is trying to be set on a copy of a slice from a DataFrame\n",
      "\n",
      "See the caveats in the documentation: https://pandas.pydata.org/pandas-docs/stable/user_guide/indexing.html#returning-a-view-versus-a-copy\n",
      "  df['class'][pointIDX] = 2\n",
      "/var/folders/jt/qjvfxd317_s79391s2jnf0w40000gn/T/ipykernel_8019/3358861113.py:14: SettingWithCopyWarning: \n",
      "A value is trying to be set on a copy of a slice from a DataFrame\n",
      "\n",
      "See the caveats in the documentation: https://pandas.pydata.org/pandas-docs/stable/user_guide/indexing.html#returning-a-view-versus-a-copy\n",
      "  df['class'][pointIDX] = 3\n"
     ]
    },
    {
     "data": {
      "text/plain": [
       "<Figure size 432x288 with 0 Axes>"
      ]
     },
     "metadata": {},
     "output_type": "display_data"
    },
    {
     "data": {
      "image/png": "[encoded data removed]",
      "text/plain": [
       "<Figure size 720x720 with 1 Axes>"
      ]
     },
     "metadata": {
      "needs_background": "light"
     },
     "output_type": "display_data"
    }
   ],
   "source": [
    "def Kmeans(df,iterations):\n",
    "    \"\"\"\n",
    "    When you have implemented the three functions this function should work and run the Kmeans algorithm!\n",
    "    \"\"\"\n",
    "\n",
    "    mean1, mean2, mean3 = initializeMeans(df)\n",
    "\n",
    "    for iteration in range(iterations):\n",
    "\n",
    "        print(\"Iteration {}/{}\".format(iteration,iteration))\n",
    "        \n",
    "        for i in range(len(df)):\n",
    "            df = euclideanDist(df,i,mean1,mean2, mean3)\n",
    "            \n",
    "        mean1, mean2, mean3 = updateMean(df)\n",
    "\n",
    "    return df, mean1, mean2, mean3\n",
    "\n",
    "df, mean1, mean2, mean3 = Kmeans(df,50)\n",
    "\n",
    "#What K-means does is to assign each point to a cluster based on the distance between the point and the mean of the cluster.\n",
    "#The mean of the cluster is then updated based on the points assigned to the cluster.\n",
    "#This process is repeated until the means converge.\n",
    "\n",
    "\n",
    "# plt.clf()\n",
    "# #Scatter each point with a color corresponding to the class\n",
    "# plt.scatter(dfkk.loc[dfkk['class'] == 0]['Shoe size'],dfkk.loc[dfkk['class'] == 0]['Height'],color='g',label='0')  \n",
    "# plt.scatter(dfkk.loc[dfkk['class'] == 1]['Shoe size'],dfkk.loc[dfkk['class'] == 1]['Height'],color='b',label='1')  \n",
    "# plt.scatter(dfkk.loc[dfkk['class'] == 2]['Shoe size'],dfkk.loc[dfkk['class'] == 2]['Height'],color='m',label='2')\n",
    "# #Scatter each mean\n",
    "# plt.scatter(means.iloc[0].loc['Shoe size'],means.iloc[0].loc['Height'],s=70,label='mean0',marker='s',color='r')                    # Visualizing the final class distribution\n",
    "# plt.scatter(means.iloc[1].loc['Shoe size'],means.iloc[1].loc['Height'],s=70,label='mean1',marker='s',color='y')\n",
    "# plt.scatter(means.iloc[2].loc['Shoe size'],means.iloc[2].loc['Height'],s=70,label='mean2',marker='s',color='b')\n",
    "# #Label stuff\n",
    "# plt.xlabel('Shoe size')\n",
    "# plt.ylabel('Height')\n",
    "# plt.legend()\n",
    "# plt.show()\n",
    "\n",
    "\n",
    "\n",
    "plt.clf()\n",
    "plt.figure(figsize=(10,10))\n",
    "plt.scatter(df.loc[df['class'] == 1]['height'],df.loc[df['class'] == 1]['shoe_size'],color='g',label='1')  #\n",
    "plt.scatter(df.loc[df['class'] == 2]['height'],df.loc[df['class'] == 2]['shoe_size'],color='b',label='2')  #\n",
    "plt.scatter(df.loc[df['class'] == 3]['height'],df.loc[df['class'] == 3]['shoe_size'],color='c',label='3')  #\n",
    "\n",
    "\n",
    "\n",
    "\n",
    "plt.scatter(mean1['height'],mean1['shoe_size'],s=70,label='mean1',marker='s',color='r')                    # Visualizing the final class distribution\n",
    "plt.scatter(mean2['height'],mean2['shoe_size'],s=70,label='mean2',marker='s',color='y') \n",
    "plt.scatter(mean3['height'],mean3['shoe_size'],s=70,label='mean2',marker='s',color='b')   \n",
    "\n",
    "\n",
    "plt.xlabel('Height')\n",
    "plt.ylabel('Shoe size')\n",
    "\n",
    "plt.legend()                                                                                                #\n",
    "plt.show()\n",
    "\n"
   ]
  }
 ],
 "metadata": {
  "kernelspec": {
   "display_name": "Python 3.9.12 ('base')",
   "language": "python",
   "name": "python3"
  },
  "language_info": {
   "codemirror_mode": {
    "name": "ipython",
    "version": 3
   },
   "file_extension": ".py",
   "mimetype": "text/x-python",
   "name": "python",
   "nbconvert_exporter": "python",
   "pygments_lexer": "ipython3",
   "version": "3.9.12"
  },
  "orig_nbformat": 4,
  "vscode": {
   "interpreter": {
    "hash": "7048a5d75593413cc54dc24206831079ac8905ffddb319c4eafd454be0ec5d5b"
   }
  }
 },
 "nbformat": 4,
 "nbformat_minor": 2
}
