{
 "cells": [
  {
   "cell_type": "code",
   "execution_count": 116,
   "metadata": {},
   "outputs": [],
   "source": [
    "import random\n",
    "import pandas as pd\n",
    "import matplotlib.pyplot as plt\n",
    "import numpy as np"
   ]
  },
  {
   "cell_type": "code",
   "execution_count": 117,
   "metadata": {},
   "outputs": [],
   "source": [
    "df = pd.read_csv('Data miners 2022 (answers).csv')\n",
    "df = df.reset_index(drop=True) # Remove the index from the file\n",
    "df['class'] = 1 # Assign all points to class 1\n",
    "\n",
    "#change Your height (in International inches)\\nAlready, an awkward data storage format. It's good to be fluent in multiple systems! to height\n",
    "df = df.rename(columns={'Your height (in International inches)\\nAlready, an awkward data storage format. It\\'s good to be fluent in multiple systems!':'height'})\n",
    "#change Your mean shoe size (In European Continental system)\tto shoe_size\n",
    "df = df.rename(columns={'Your mean shoe size (In European Continental system)':'shoe_size'})\n",
    "\n",
    "#remove all columns but shoe_size, height, and class\n",
    "df = df[['height', 'shoe_size', 'class']]"
   ]
  },
  {
   "cell_type": "code",
   "execution_count": 118,
   "metadata": {},
   "outputs": [
    {
     "data": {
      "image/png": "[encoded data removed]",
      "text/plain": [
       "<Figure size 432x288 with 1 Axes>"
      ]
     },
     "metadata": {
      "needs_background": "light"
     },
     "output_type": "display_data"
    }
   ],
   "source": [
    "plt.title('Scatter plot of the Distribution of data')   #\n",
    "plt.scatter(df['shoe_size'], df['height'])              # Visualizing the distribution\n",
    "\n",
    "plt.xlabel('shoe_size')\n",
    "plt.ylabel('height')\n",
    "\n",
    "#remove observations that are 3 standard deviations from the mean\n",
    "df = df[(np.abs(df.height-df.height.mean()) <= (3*df.height.std())) & (np.abs(df.shoe_size-df.shoe_size.mean()) <= (3*df.shoe_size.std()))]\n",
    "\n",
    "plt.show()\n"
   ]
  },
  {
   "cell_type": "code",
   "execution_count": 119,
   "metadata": {},
   "outputs": [],
   "source": [
    "def initializeMeans(df, k):\n",
    "\n",
    "    means = df.sample(k)\n",
    "    for i in range(k):\n",
    "        means.iloc[i,2] = i\n",
    "    \n",
    "    return means"
   ]
  },
  {
   "cell_type": "code",
   "execution_count": 120,
   "metadata": {},
   "outputs": [],
   "source": [
    "import math\n",
    "\n",
    "#A helper function that calulates the euclidean distance between two points\n",
    "def euclideanDistHelper(point1, point2):\n",
    "    return math.sqrt((point2[0]-point1[0])**2 + (point2[1]-point1[1])**2)\n",
    "\n",
    "def euclideanDist(df,pointIDX,means):\n",
    "    distances = []\n",
    "    #loop over all the means\n",
    "    for i in range(len(means)):\n",
    "        #we calculate the euclidean distance between the point and the mean\n",
    "        dist = euclideanDistHelper(df.iloc[pointIDX],means.iloc[i])\n",
    "        #we append the distance to the list\n",
    "        distances.append(dist)\n",
    "    lowestDist = min(distances)\n",
    "    df.loc[pointIDX, 'class'] = distances.index(lowestDist)\n",
    "    return df\n"
   ]
  },
  {
   "cell_type": "code",
   "execution_count": 121,
   "metadata": {},
   "outputs": [],
   "source": [
    "\n",
    "def updateMean(df,means):\n",
    "    #Hwe create a new df that contains the new means\n",
    "    newMeans = pd.DataFrame(columns=df.columns)\n",
    "    \n",
    "    #we loop over the the means\n",
    "    for i in range(len(means)):\n",
    "        meanClass = means.iloc[i-1]['class'] #get the class of the mean\n",
    "        cluster = df[df['class'] == meanClass] #we select the points that belong to the cluster\n",
    "        mean = cluster.mean() #we calculate the mean of the points in the cluster\n",
    "        newMeans = newMeans.append(mean, ignore_index=True) #We append the mean to the newMeans df\n",
    "    \n",
    "    return newMeans"
   ]
  },
  {
   "cell_type": "code",
   "execution_count": 122,
   "metadata": {},
   "outputs": [],
   "source": [
    "\n",
    "def Kmeans(df,iterations, k):\n",
    "    means = initializeMeans(df, k)\n",
    "\n",
    "    for iteration in range(iterations): \n",
    "\n",
    "        print(\"Iteration {}/{}\".format(iteration,iteration))\n",
    "        \n",
    "        for i in range(len(df)):\n",
    "            df = euclideanDist(df,i,means)\n",
    "            \n",
    "        means = updateMean(df, means)\n",
    "\n",
    "    return df, means\n"
   ]
  },
  {
   "cell_type": "code",
   "execution_count": 123,
   "metadata": {},
   "outputs": [
    {
     "name": "stdout",
     "output_type": "stream",
     "text": [
      "Iteration 0/0\n",
      "Iteration 1/1\n",
      "Iteration 2/2\n",
      "Iteration 3/3\n",
      "Iteration 4/4\n"
     ]
    },
    {
     "name": "stderr",
     "output_type": "stream",
     "text": [
      "/var/folders/jt/qjvfxd317_s79391s2jnf0w40000gn/T/ipykernel_4095/999001619.py:10: FutureWarning: The frame.append method is deprecated and will be removed from pandas in a future version. Use pandas.concat instead.\n",
      "  newMeans = newMeans.append(mean, ignore_index=True) #We append the mean to the newMeans df\n",
      "/var/folders/jt/qjvfxd317_s79391s2jnf0w40000gn/T/ipykernel_4095/999001619.py:10: FutureWarning: The frame.append method is deprecated and will be removed from pandas in a future version. Use pandas.concat instead.\n",
      "  newMeans = newMeans.append(mean, ignore_index=True) #We append the mean to the newMeans df\n",
      "/var/folders/jt/qjvfxd317_s79391s2jnf0w40000gn/T/ipykernel_4095/999001619.py:10: FutureWarning: The frame.append method is deprecated and will be removed from pandas in a future version. Use pandas.concat instead.\n",
      "  newMeans = newMeans.append(mean, ignore_index=True) #We append the mean to the newMeans df\n",
      "/var/folders/jt/qjvfxd317_s79391s2jnf0w40000gn/T/ipykernel_4095/999001619.py:10: FutureWarning: The frame.append method is deprecated and will be removed from pandas in a future version. Use pandas.concat instead.\n",
      "  newMeans = newMeans.append(mean, ignore_index=True) #We append the mean to the newMeans df\n",
      "/var/folders/jt/qjvfxd317_s79391s2jnf0w40000gn/T/ipykernel_4095/999001619.py:10: FutureWarning: The frame.append method is deprecated and will be removed from pandas in a future version. Use pandas.concat instead.\n",
      "  newMeans = newMeans.append(mean, ignore_index=True) #We append the mean to the newMeans df\n",
      "/var/folders/jt/qjvfxd317_s79391s2jnf0w40000gn/T/ipykernel_4095/999001619.py:10: FutureWarning: The frame.append method is deprecated and will be removed from pandas in a future version. Use pandas.concat instead.\n",
      "  newMeans = newMeans.append(mean, ignore_index=True) #We append the mean to the newMeans df\n",
      "/var/folders/jt/qjvfxd317_s79391s2jnf0w40000gn/T/ipykernel_4095/999001619.py:10: FutureWarning: The frame.append method is deprecated and will be removed from pandas in a future version. Use pandas.concat instead.\n",
      "  newMeans = newMeans.append(mean, ignore_index=True) #We append the mean to the newMeans df\n",
      "/var/folders/jt/qjvfxd317_s79391s2jnf0w40000gn/T/ipykernel_4095/999001619.py:10: FutureWarning: The frame.append method is deprecated and will be removed from pandas in a future version. Use pandas.concat instead.\n",
      "  newMeans = newMeans.append(mean, ignore_index=True) #We append the mean to the newMeans df\n",
      "/var/folders/jt/qjvfxd317_s79391s2jnf0w40000gn/T/ipykernel_4095/999001619.py:10: FutureWarning: The frame.append method is deprecated and will be removed from pandas in a future version. Use pandas.concat instead.\n",
      "  newMeans = newMeans.append(mean, ignore_index=True) #We append the mean to the newMeans df\n",
      "/var/folders/jt/qjvfxd317_s79391s2jnf0w40000gn/T/ipykernel_4095/999001619.py:10: FutureWarning: The frame.append method is deprecated and will be removed from pandas in a future version. Use pandas.concat instead.\n",
      "  newMeans = newMeans.append(mean, ignore_index=True) #We append the mean to the newMeans df\n",
      "/var/folders/jt/qjvfxd317_s79391s2jnf0w40000gn/T/ipykernel_4095/999001619.py:10: FutureWarning: The frame.append method is deprecated and will be removed from pandas in a future version. Use pandas.concat instead.\n",
      "  newMeans = newMeans.append(mean, ignore_index=True) #We append the mean to the newMeans df\n",
      "/var/folders/jt/qjvfxd317_s79391s2jnf0w40000gn/T/ipykernel_4095/999001619.py:10: FutureWarning: The frame.append method is deprecated and will be removed from pandas in a future version. Use pandas.concat instead.\n",
      "  newMeans = newMeans.append(mean, ignore_index=True) #We append the mean to the newMeans df\n",
      "/var/folders/jt/qjvfxd317_s79391s2jnf0w40000gn/T/ipykernel_4095/999001619.py:10: FutureWarning: The frame.append method is deprecated and will be removed from pandas in a future version. Use pandas.concat instead.\n",
      "  newMeans = newMeans.append(mean, ignore_index=True) #We append the mean to the newMeans df\n",
      "/var/folders/jt/qjvfxd317_s79391s2jnf0w40000gn/T/ipykernel_4095/999001619.py:10: FutureWarning: The frame.append method is deprecated and will be removed from pandas in a future version. Use pandas.concat instead.\n",
      "  newMeans = newMeans.append(mean, ignore_index=True) #We append the mean to the newMeans df\n",
      "/var/folders/jt/qjvfxd317_s79391s2jnf0w40000gn/T/ipykernel_4095/999001619.py:10: FutureWarning: The frame.append method is deprecated and will be removed from pandas in a future version. Use pandas.concat instead.\n",
      "  newMeans = newMeans.append(mean, ignore_index=True) #We append the mean to the newMeans df\n",
      "/var/folders/jt/qjvfxd317_s79391s2jnf0w40000gn/T/ipykernel_4095/999001619.py:10: FutureWarning: The frame.append method is deprecated and will be removed from pandas in a future version. Use pandas.concat instead.\n",
      "  newMeans = newMeans.append(mean, ignore_index=True) #We append the mean to the newMeans df\n"
     ]
    },
    {
     "name": "stdout",
     "output_type": "stream",
     "text": [
      "Iteration 5/5\n",
      "Iteration 6/6\n",
      "Iteration 7/7\n",
      "Iteration 8/8\n",
      "Iteration 9/9\n"
     ]
    },
    {
     "name": "stderr",
     "output_type": "stream",
     "text": [
      "/var/folders/jt/qjvfxd317_s79391s2jnf0w40000gn/T/ipykernel_4095/999001619.py:10: FutureWarning: The frame.append method is deprecated and will be removed from pandas in a future version. Use pandas.concat instead.\n",
      "  newMeans = newMeans.append(mean, ignore_index=True) #We append the mean to the newMeans df\n",
      "/var/folders/jt/qjvfxd317_s79391s2jnf0w40000gn/T/ipykernel_4095/999001619.py:10: FutureWarning: The frame.append method is deprecated and will be removed from pandas in a future version. Use pandas.concat instead.\n",
      "  newMeans = newMeans.append(mean, ignore_index=True) #We append the mean to the newMeans df\n",
      "/var/folders/jt/qjvfxd317_s79391s2jnf0w40000gn/T/ipykernel_4095/999001619.py:10: FutureWarning: The frame.append method is deprecated and will be removed from pandas in a future version. Use pandas.concat instead.\n",
      "  newMeans = newMeans.append(mean, ignore_index=True) #We append the mean to the newMeans df\n",
      "/var/folders/jt/qjvfxd317_s79391s2jnf0w40000gn/T/ipykernel_4095/999001619.py:10: FutureWarning: The frame.append method is deprecated and will be removed from pandas in a future version. Use pandas.concat instead.\n",
      "  newMeans = newMeans.append(mean, ignore_index=True) #We append the mean to the newMeans df\n",
      "/var/folders/jt/qjvfxd317_s79391s2jnf0w40000gn/T/ipykernel_4095/999001619.py:10: FutureWarning: The frame.append method is deprecated and will be removed from pandas in a future version. Use pandas.concat instead.\n",
      "  newMeans = newMeans.append(mean, ignore_index=True) #We append the mean to the newMeans df\n",
      "/var/folders/jt/qjvfxd317_s79391s2jnf0w40000gn/T/ipykernel_4095/999001619.py:10: FutureWarning: The frame.append method is deprecated and will be removed from pandas in a future version. Use pandas.concat instead.\n",
      "  newMeans = newMeans.append(mean, ignore_index=True) #We append the mean to the newMeans df\n",
      "/var/folders/jt/qjvfxd317_s79391s2jnf0w40000gn/T/ipykernel_4095/999001619.py:10: FutureWarning: The frame.append method is deprecated and will be removed from pandas in a future version. Use pandas.concat instead.\n",
      "  newMeans = newMeans.append(mean, ignore_index=True) #We append the mean to the newMeans df\n",
      "/var/folders/jt/qjvfxd317_s79391s2jnf0w40000gn/T/ipykernel_4095/999001619.py:10: FutureWarning: The frame.append method is deprecated and will be removed from pandas in a future version. Use pandas.concat instead.\n",
      "  newMeans = newMeans.append(mean, ignore_index=True) #We append the mean to the newMeans df\n",
      "/var/folders/jt/qjvfxd317_s79391s2jnf0w40000gn/T/ipykernel_4095/999001619.py:10: FutureWarning: The frame.append method is deprecated and will be removed from pandas in a future version. Use pandas.concat instead.\n",
      "  newMeans = newMeans.append(mean, ignore_index=True) #We append the mean to the newMeans df\n",
      "/var/folders/jt/qjvfxd317_s79391s2jnf0w40000gn/T/ipykernel_4095/999001619.py:10: FutureWarning: The frame.append method is deprecated and will be removed from pandas in a future version. Use pandas.concat instead.\n",
      "  newMeans = newMeans.append(mean, ignore_index=True) #We append the mean to the newMeans df\n",
      "/var/folders/jt/qjvfxd317_s79391s2jnf0w40000gn/T/ipykernel_4095/999001619.py:10: FutureWarning: The frame.append method is deprecated and will be removed from pandas in a future version. Use pandas.concat instead.\n",
      "  newMeans = newMeans.append(mean, ignore_index=True) #We append the mean to the newMeans df\n",
      "/var/folders/jt/qjvfxd317_s79391s2jnf0w40000gn/T/ipykernel_4095/999001619.py:10: FutureWarning: The frame.append method is deprecated and will be removed from pandas in a future version. Use pandas.concat instead.\n",
      "  newMeans = newMeans.append(mean, ignore_index=True) #We append the mean to the newMeans df\n",
      "/var/folders/jt/qjvfxd317_s79391s2jnf0w40000gn/T/ipykernel_4095/999001619.py:10: FutureWarning: The frame.append method is deprecated and will be removed from pandas in a future version. Use pandas.concat instead.\n",
      "  newMeans = newMeans.append(mean, ignore_index=True) #We append the mean to the newMeans df\n",
      "/var/folders/jt/qjvfxd317_s79391s2jnf0w40000gn/T/ipykernel_4095/999001619.py:10: FutureWarning: The frame.append method is deprecated and will be removed from pandas in a future version. Use pandas.concat instead.\n",
      "  newMeans = newMeans.append(mean, ignore_index=True) #We append the mean to the newMeans df\n"
     ]
    },
    {
     "data": {
      "image/png": "[encoded data removed]",
      "text/plain": [
       "<Figure size 432x288 with 1 Axes>"
      ]
     },
     "metadata": {
      "needs_background": "light"
     },
     "output_type": "display_data"
    }
   ],
   "source": [
    "df = df.reset_index(drop=True) # Remove index from file\n",
    "\n",
    "dff, means = Kmeans(df,10,3)\n",
    "\n",
    "plt.clf()\n",
    "\n",
    "plt.title('Scatter plot of the Distribution of data')   #\n",
    "\n",
    "plt.scatter(df.loc[df['class'] == 0]['shoe_size'],df.loc[df['class'] == 0]['height'],color='g',label='0')  \n",
    "plt.scatter(df.loc[df['class'] == 1]['shoe_size'],df.loc[df['class'] == 1]['height'],color='b',label='1')  \n",
    "plt.scatter(df.loc[df['class'] == 2]['shoe_size'],df.loc[df['class'] == 2]['height'],color='m',label='2')\n",
    "\n",
    "plt.scatter(means.iloc[0].loc['shoe_size'],means.iloc[0].loc['height'],s=70,label='mean0',marker='s',color='r')                    # Visualizing the final class distribution\n",
    "plt.scatter(means.iloc[1].loc['shoe_size'],means.iloc[1].loc['height'],s=70,label='mean1',marker='s',color='y')\n",
    "plt.scatter(means.iloc[2].loc['shoe_size'],means.iloc[2].loc['height'],s=70,label='mean2',marker='s',color='b')\n",
    "\n",
    "plt.xlabel('shoe_size')\n",
    "plt.ylabel('height')\n",
    "plt.legend()\n",
    "plt.show()"
   ]
  }
 ],
 "metadata": {
  "kernelspec": {
   "display_name": "Python 3.9.12 ('base')",
   "language": "python",
   "name": "python3"
  },
  "language_info": {
   "codemirror_mode": {
    "name": "ipython",
    "version": 3
   },
   "file_extension": ".py",
   "mimetype": "text/x-python",
   "name": "python",
   "nbconvert_exporter": "python",
   "pygments_lexer": "ipython3",
   "version": "3.9.12"
  },
  "orig_nbformat": 4,
  "vscode": {
   "interpreter": {
    "hash": "7048a5d75593413cc54dc24206831079ac8905ffddb319c4eafd454be0ec5d5b"
   }
  }
 },
 "nbformat": 4,
 "nbformat_minor": 2
}
