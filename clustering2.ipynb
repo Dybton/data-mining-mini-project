{
 "cells": [
  {
   "cell_type": "code",
   "execution_count": 77,
   "metadata": {},
   "outputs": [],
   "source": [
    "\"\"\"\n",
    "This is one way of implementing the algorithm. Feel free to implement the functions in another way.\n",
    "This way of implementing keeps the datatype to be pandas dataframe or pandas series (pretty much the same thing...)\n",
    "through the entire code. Maybe look/Users/jakobtolstrup/Downloads/KmeansTemplate (3).py into numpy arrays if you want to implement it differently.\n",
    "\n",
    "Plotting the distribution and inspecting pandas dataframes can be easier to understand in a ipynb.\n",
    "Feel free to copy this code into Jupyter Notebook or a Google Colab.\n",
    "I will show you my implementation in a jupyter notebook at the end of the class.\n",
    "\"\"\"\n",
    "\n",
    "import random\n",
    "import pandas as pd\n",
    "import matplotlib.pyplot as plt"
   ]
  },
  {
   "cell_type": "code",
   "execution_count": 78,
   "metadata": {},
   "outputs": [
    {
     "data": {
      "text/html": [
       "<div>\n",
       "<style scoped>\n",
       "    .dataframe tbody tr th:only-of-type {\n",
       "        vertical-align: middle;\n",
       "    }\n",
       "\n",
       "    .dataframe tbody tr th {\n",
       "        vertical-align: top;\n",
       "    }\n",
       "\n",
       "    .dataframe thead th {\n",
       "        text-align: right;\n",
       "    }\n",
       "</style>\n",
       "<table border=\"1\" class=\"dataframe\">\n",
       "  <thead>\n",
       "    <tr style=\"text-align: right;\">\n",
       "      <th></th>\n",
       "      <th>eruptions</th>\n",
       "      <th>waiting</th>\n",
       "      <th>class</th>\n",
       "    </tr>\n",
       "  </thead>\n",
       "  <tbody>\n",
       "    <tr>\n",
       "      <th>0</th>\n",
       "      <td>0.705882</td>\n",
       "      <td>0.822917</td>\n",
       "      <td>1</td>\n",
       "    </tr>\n",
       "    <tr>\n",
       "      <th>1</th>\n",
       "      <td>0.352941</td>\n",
       "      <td>0.562500</td>\n",
       "      <td>1</td>\n",
       "    </tr>\n",
       "    <tr>\n",
       "      <th>2</th>\n",
       "      <td>0.653529</td>\n",
       "      <td>0.770833</td>\n",
       "      <td>1</td>\n",
       "    </tr>\n",
       "    <tr>\n",
       "      <th>3</th>\n",
       "      <td>0.447647</td>\n",
       "      <td>0.645833</td>\n",
       "      <td>1</td>\n",
       "    </tr>\n",
       "    <tr>\n",
       "      <th>4</th>\n",
       "      <td>0.888824</td>\n",
       "      <td>0.885417</td>\n",
       "      <td>1</td>\n",
       "    </tr>\n",
       "    <tr>\n",
       "      <th>...</th>\n",
       "      <td>...</td>\n",
       "      <td>...</td>\n",
       "      <td>...</td>\n",
       "    </tr>\n",
       "    <tr>\n",
       "      <th>267</th>\n",
       "      <td>0.807255</td>\n",
       "      <td>0.843750</td>\n",
       "      <td>1</td>\n",
       "    </tr>\n",
       "    <tr>\n",
       "      <th>268</th>\n",
       "      <td>0.421569</td>\n",
       "      <td>0.479167</td>\n",
       "      <td>1</td>\n",
       "    </tr>\n",
       "    <tr>\n",
       "      <th>269</th>\n",
       "      <td>0.866078</td>\n",
       "      <td>0.937500</td>\n",
       "      <td>1</td>\n",
       "    </tr>\n",
       "    <tr>\n",
       "      <th>270</th>\n",
       "      <td>0.356275</td>\n",
       "      <td>0.479167</td>\n",
       "      <td>1</td>\n",
       "    </tr>\n",
       "    <tr>\n",
       "      <th>271</th>\n",
       "      <td>0.875882</td>\n",
       "      <td>0.770833</td>\n",
       "      <td>1</td>\n",
       "    </tr>\n",
       "  </tbody>\n",
       "</table>\n",
       "<p>272 rows × 3 columns</p>\n",
       "</div>"
      ],
      "text/plain": [
       "     eruptions   waiting  class\n",
       "0     0.705882  0.822917      1\n",
       "1     0.352941  0.562500      1\n",
       "2     0.653529  0.770833      1\n",
       "3     0.447647  0.645833      1\n",
       "4     0.888824  0.885417      1\n",
       "..         ...       ...    ...\n",
       "267   0.807255  0.843750      1\n",
       "268   0.421569  0.479167      1\n",
       "269   0.866078  0.937500      1\n",
       "270   0.356275  0.479167      1\n",
       "271   0.875882  0.770833      1\n",
       "\n",
       "[272 rows x 3 columns]"
      ]
     },
     "metadata": {},
     "output_type": "display_data"
    }
   ],
   "source": [
    "df = pd.read_csv('geyserData.csv') # Read in data as dataframe\n",
    "df = df.reset_index(drop=True) # Remove the index from the file\n",
    "df['class'] = 1 # Assign all points to class 1\n",
    "df['eruptions'] = df['eruptions'] / max(df['eruptions']) # Normalize eruptions\n",
    "df['waiting'] = df['waiting'] / max(df['waiting']) # Normalize waiting\n",
    "\n",
    "display(df) # Display the dataframe"
   ]
  },
  {
   "cell_type": "code",
   "execution_count": 79,
   "metadata": {},
   "outputs": [
    {
     "data": {
      "image/png": "[encoded data removed]",
      "text/plain": [
       "<Figure size 432x288 with 1 Axes>"
      ]
     },
     "metadata": {
      "needs_background": "light"
     },
     "output_type": "display_data"
    }
   ],
   "source": [
    "plt.title('Scatter plot of the Distribution of data')   #\n",
    "plt.scatter(df['eruptions'],df['waiting'])              # Visualizing the distribution\n",
    "#put the label eruption and waiting on the x and y axis\n",
    "plt.xlabel('eruptions')\n",
    "plt.ylabel('waiting')\n",
    "plt.show()   "
   ]
  },
  {
   "cell_type": "code",
   "execution_count": 80,
   "metadata": {},
   "outputs": [
    {
     "data": {
      "text/plain": [
       "(eruptions    0.89549\n",
       " waiting      0.87500\n",
       " class        1.00000\n",
       " Name: 42, dtype: float64,\n",
       " eruptions    0.738627\n",
       " waiting      0.843750\n",
       " class        1.000000\n",
       " Name: 125, dtype: float64)"
      ]
     },
     "execution_count": 80,
     "metadata": {},
     "output_type": "execute_result"
    }
   ],
   "source": [
    "def initializeMeans(df):\n",
    "    \"\"\"\n",
    "    Intialize the means by randomly taking two points from the dataframe. Hint: check the function 'random.randint'\n",
    "    return two pandas dataframes (or pandas series) with mean1 and mean2\n",
    "    \"\"\" \n",
    "\n",
    "    #randomly select two points from the dataframe\n",
    "    mean1 = df.iloc[random.randint(0, len(df)-1)]\n",
    "    mean2 = df.iloc[random.randint(0, len(df)-1)]\n",
    "\n",
    "    return mean1, mean2 \n",
    "\n",
    "initializeMeans(df)\n"
   ]
  },
  {
   "cell_type": "code",
   "execution_count": 81,
   "metadata": {},
   "outputs": [],
   "source": [
    "import math\n",
    "\n",
    "#create a helper function that calulates the euclidean distance between two points\n",
    "def euclideanDistHelper(point1, point2):\n",
    "    return math.sqrt((point2[0]-point1[0])**2 + (point2[1]-point1[1])**2)\n",
    "\n",
    "def euclideanDist(df,pointIDX,mean1,mean2):\n",
    "\n",
    "    dist1 = euclideanDistHelper(df.iloc[pointIDX], mean1)\n",
    "    dist2 = euclideanDistHelper(df.iloc[pointIDX], mean2)\n",
    "    \n",
    "    lowest = min(dist1, dist2)\n",
    "\n",
    "    if dist1 == lowest:\n",
    "        df.loc[pointIDX, 'class'] = 0\n",
    "    else:\n",
    "        df.loc[pointIDX, 'class'] = 1\n",
    "\n",
    "    return df\n",
    "\n",
    "m1, m2 = initializeMeans(df)\n",
    "b = euclideanDist(df, 5, m1,m2)"
   ]
  },
  {
   "cell_type": "code",
   "execution_count": 82,
   "metadata": {},
   "outputs": [],
   "source": [
    "def updateMean(df):\n",
    "    \"\"\"\n",
    "    df is the dataframe of points containing the assigned classes\n",
    "    return updated mean1 and mean2 based on the value in column 'class'. mean1 and mean2 should still be pandas dataframes (or pandas series)\n",
    "    \"\"\"\n",
    "    \n",
    "\n",
    "\n",
    "    mean1 = df[df['class'] == 0].mean()\n",
    "    mean2 = df[df['class'] == 1].mean()\n",
    "\n",
    "    return mean1, mean2\n",
    "\n",
    "updateMean(df)"
   ]
  },
  {
   "cell_type": "code",
   "execution_count": 83,
   "metadata": {},
   "outputs": [
    {
     "name": "stdout",
     "output_type": "stream",
     "text": [
      "Iteration 0/0\n",
      "Iteration 1/1\n",
      "Iteration 2/2\n",
      "Iteration 3/3\n",
      "Iteration 4/4\n"
     ]
    }
   ],
   "source": [
    "def Kmeans(df,iterations):\n",
    "    \"\"\"\n",
    "    When you have implemented the three functions this function should work and run the Kmeans algorithm!\n",
    "    \"\"\"\n",
    "\n",
    "    mean1,mean2 = initializeMeans(df)\n",
    "\n",
    "    for iteration in range(iterations): # Change this when implementing how many times it should recalculate the mean\n",
    "\n",
    "        print(\"Iteration {}/{}\".format(iteration,iteration))\n",
    "        \n",
    "        for i in range(len(df)):\n",
    "            df = euclideanDist(df,i,mean1,mean2)\n",
    "            \n",
    "        mean1,mean2 = updateMean(df)\n",
    "\n",
    "    return df,mean1,mean2\n",
    "\n",
    "df,mean1,mean2 = Kmeans(df,5)"
   ]
  },
  {
   "cell_type": "code",
   "execution_count": 84,
   "metadata": {},
   "outputs": [
    {
     "data": {
      "image/png": "[encoded data removed]",
      "text/plain": [
       "<Figure size 432x288 with 1 Axes>"
      ]
     },
     "metadata": {
      "needs_background": "light"
     },
     "output_type": "display_data"
    }
   ],
   "source": [
    "plt.clf()\n",
    "plt.scatter(df.loc[df['class'] == 0]['eruptions'],df.loc[df['class'] == 0]['waiting'],color='g',label='1')  #\n",
    "plt.scatter(df.loc[df['class'] == 1]['eruptions'],df.loc[df['class'] == 1]['waiting'],color='b',label='2')  #\n",
    "                                                                                                            #\n",
    "plt.scatter(mean1['eruptions'],mean1['waiting'],s=70,label='mean1',marker='s',color='y')                    # Visualizing the final class distribution\n",
    "plt.scatter(mean2['eruptions'],mean2['waiting'],s=70,label='mean2',marker='s',color='r')                    #\n",
    "                                                                                                            #\n",
    "plt.legend()                                                                                                #\n",
    "plt.show()    "
   ]
  }
 ],
 "metadata": {
  "kernelspec": {
   "display_name": "Python 3.9.12 ('base')",
   "language": "python",
   "name": "python3"
  },
  "language_info": {
   "codemirror_mode": {
    "name": "ipython",
    "version": 3
   },
   "file_extension": ".py",
   "mimetype": "text/x-python",
   "name": "python",
   "nbconvert_exporter": "python",
   "pygments_lexer": "ipython3",
   "version": "3.9.12"
  },
  "orig_nbformat": 4,
  "vscode": {
   "interpreter": {
    "hash": "7048a5d75593413cc54dc24206831079ac8905ffddb319c4eafd454be0ec5d5b"
   }
  }
 },
 "nbformat": 4,
 "nbformat_minor": 2
}
