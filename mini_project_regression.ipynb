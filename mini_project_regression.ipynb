{
 "cells": [
  {
   "cell_type": "code",
   "execution_count": 1,
   "metadata": {},
   "outputs": [],
   "source": [
    "from numpy import NaN\n",
    "import numpy as np\n",
    "import pandas as pd\n",
    "import matplotlib.pyplot as plt\n",
    "from sqlalchemy import true\n",
    "\n",
    "df = pd.read_csv('Data miners 2022 (answers).csv')"
   ]
  },
  {
   "cell_type": "code",
   "execution_count": 2,
   "metadata": {},
   "outputs": [],
   "source": [
    "#string_to_list takes a string, lowercases it and turns it into a list of words\n",
    "def string_to_list(string):\n",
    "    string = string.lower()\n",
    "    string = string.split()\n",
    "    return string\n",
    "\n",
    "#string_in_list takes a string and a list of words and returns true if the string is one of the words in the list\n",
    "def string_in_list(string, list_of_words):\n",
    "    string = string_to_list(string)\n",
    "    for word in string:\n",
    "        if word in list_of_words:\n",
    "            return True\n",
    "    return False\n",
    "\n",
    "#string_in_list_index takes a list of words and a string and returns the index of that string in the list of words\n",
    "def string_in_list_index(string, list_of_words):\n",
    "    string = string_to_list(string)\n",
    "    for word in string:\n",
    "        if word in list_of_words:\n",
    "            return list_of_words.index(word)\n",
    "    return NaN\n",
    "\n",
    "#check_if_left_is_num takes a string and a list of words and returns the number to the left of the string in the list of words\n",
    "def check_if_left_is_num(string, list_of_words):\n",
    "    string_index = string_in_list_index(string, list_of_words)\n",
    "    index_val = list_of_words[string_index - 1]\n",
    "    try:\n",
    "        return int(index_val)\n",
    "    except: \n",
    "        return NaN\n",
    "\n",
    "#convert_experience_to_number takes a string and returns the number of years of experience\n",
    "def convert_experience_to_number(string):\n",
    "    list_of_words = string_to_list(string)\n",
    "    if (string_in_list(\"year\", list_of_words)):\n",
    "        return check_if_left_is_num(\"year\", list_of_words)\n",
    "    elif(string_in_list(\"years\", list_of_words)):\n",
    "        return check_if_left_is_num(\"years\", list_of_words)\n",
    "    else:\n",
    "        return NaN\n",
    "\n",
    "# I add a new column to the df called programming_experience and fill it with the values that result from applying the function convert_experience_to_number to the column How long time have you been programming\n",
    "df['programming_experience'] = df['How long time have you been programming?'].apply(convert_experience_to_number)\n"
   ]
  },
  {
   "cell_type": "code",
   "execution_count": 3,
   "metadata": {},
   "outputs": [],
   "source": [
    "# I create a new column in the data frame called \"python_skills\". I then convert the ordinal data from 'How are your Python skills?' and populate the new column with it. \n",
    "df['python_skills'] = df['How are your Python skills?'].map({\"Non-existing - I don't like snakes\": 0, \"I have heard about it and have an idea about what it can be used for\": 1, \"I can understand/read simple Python scripts, but have never written one\": 2, \"I have tried to write simple scripts in Python\" : 3, \"I am quite capable of programming in Python\": 4, \"I am a Python wizard\": 5})\n",
    "\n",
    "#I then remove all the columns but programming_experience and python_skills\"\n",
    "df = df[['programming_experience', 'python_skills']]"
   ]
  },
  {
   "cell_type": "code",
   "execution_count": 4,
   "metadata": {},
   "outputs": [],
   "source": [
    "#Calculate the mean, std and var of the python experience and programming_experience\n",
    "ps_mean = df['python_skills'].mean()\n",
    "ps_median = df['python_skills'].median()\n",
    "ps_std = df['python_skills'].std()\n",
    "ps_var = df['python_skills'].var()\n",
    "\n",
    "pe_mean = df['programming_experience'].mean()\n",
    "pe_median = df['programming_experience'].median()\n",
    "pe_std = df['programming_experience'].std()\n",
    "pe_var = df['programming_experience'].var()\n"
   ]
  },
  {
   "cell_type": "code",
   "execution_count": 5,
   "metadata": {},
   "outputs": [
    {
     "data": {
      "text/plain": [
       "Text(0, 0.5, 'Number of observations')"
      ]
     },
     "execution_count": 5,
     "metadata": {},
     "output_type": "execute_result"
    },
    {
     "data": {
      "image/png": "[encoded data removed]",
      "text/plain": [
       "<Figure size 432x288 with 1 Axes>"
      ]
     },
     "metadata": {
      "needs_background": "light"
     },
     "output_type": "display_data"
    }
   ],
   "source": [
    "#plot programming experience to check for outliers\n",
    "plt.hist(df['programming_experience'])\n",
    "plt.xlabel('programming_experience')\n",
    "plt.ylabel('Number of observations')\n"
   ]
  },
  {
   "cell_type": "code",
   "execution_count": 6,
   "metadata": {},
   "outputs": [
    {
     "data": {
      "text/plain": [
       "Text(0, 0.5, 'Number of observations')"
      ]
     },
     "execution_count": 6,
     "metadata": {},
     "output_type": "execute_result"
    },
    {
     "data": {
      "image/png": "[encoded data removed]",
      "text/plain": [
       "<Figure size 432x288 with 1 Axes>"
      ]
     },
     "metadata": {
      "needs_background": "light"
     },
     "output_type": "display_data"
    }
   ],
   "source": [
    "#plot python skills to check for outliers\n",
    "plt.hist(df['python_skills'])\n",
    "plt.xlabel('python_skills')\n",
    "plt.ylabel('Number of observations')"
   ]
  },
  {
   "cell_type": "code",
   "execution_count": 7,
   "metadata": {},
   "outputs": [],
   "source": [
    "\n",
    "# remove outliers, which I define as observations that are more than 3 standard deviations away from the mean\n",
    "df = df[(df['python_skills'] - df['python_skills'].mean()).abs() <= 3 * df['python_skills'].std()]\n",
    "df = df[(df['programming_experience'] - df['programming_experience'].mean()).abs() <= 3 * df['programming_experience'].std()]\n",
    "\n",
    "#if programming_experience is NaN, I replace it with the mean programming_experience\n",
    "df['programming_experience'] = df['programming_experience'].fillna(df['programming_experience'].mean())\n",
    "#if python_skills is NaN, I replace it with the mean python_skills\n",
    "df['python_skills'] = df['python_skills'].fillna(df['python_skills'].mean())\n",
    "\n",
    "df['python_skills'] = df['python_skills'] / max(df['python_skills']) # Normalize python skills\n",
    "df['programming_experience'] = df['programming_experience'] / max(df['programming_experience']) # Normalize programming_experience\n"
   ]
  },
  {
   "cell_type": "code",
   "execution_count": 8,
   "metadata": {},
   "outputs": [
    {
     "name": "stdout",
     "output_type": "stream",
     "text": [
      "0.6470923202771849\n"
     ]
    },
    {
     "data": {
      "text/plain": [
       "<AxesSubplot:xlabel='programming_experience', ylabel='python_skills'>"
      ]
     },
     "execution_count": 8,
     "metadata": {},
     "output_type": "execute_result"
    },
    {
     "data": {
      "image/png": "[encoded data removed]",
      "text/plain": [
       "<Figure size 432x288 with 1 Axes>"
      ]
     },
     "metadata": {
      "needs_background": "light"
     },
     "output_type": "display_data"
    }
   ],
   "source": [
    "\n",
    "pearson = df['programming_experience'].corr(df['python_skills'], method='pearson')\n",
    "print(pearson)\n",
    "\n",
    "#I create a scatter plot that shows the relationship between python experience and programming_experience\n",
    "df.plot.scatter(x='programming_experience', y='python_skills')\n"
   ]
  },
  {
   "cell_type": "markdown",
   "metadata": {},
   "source": [
    "#Relationship\n",
    "\n",
    "    \n"
   ]
  },
  {
   "cell_type": "code",
   "execution_count": 9,
   "metadata": {},
   "outputs": [
    {
     "name": "stdout",
     "output_type": "stream",
     "text": [
      "[0.57734359 0.41139056]\n"
     ]
    },
    {
     "data": {
      "image/png": "[encoded data removed]",
      "text/plain": [
       "<Figure size 432x288 with 1 Axes>"
      ]
     },
     "metadata": {
      "needs_background": "light"
     },
     "output_type": "display_data"
    }
   ],
   "source": [
    "# We set programming_experience as the independent variable and python skills as the dependent variable, and calculate the linear regression\n",
    "reg = np.polyfit(df['programming_experience'], df['python_skills'], 1)\n",
    "\n",
    "# on the x-axis we have the programming_experience and on the y-axis we have the python_skills\n",
    "trend = np.polyval(reg, df['programming_experience'])\n",
    "plt.scatter(df['programming_experience'], df['python_skills']) \n",
    "plt.plot(df['programming_experience'], trend, color='red')\n",
    "\n",
    "plt.xlabel('programming_experience')\n",
    "plt.ylabel('python_skills')\n",
    "\n",
    "print(reg)\n",
    "\n",
    "# Linear expression explains the relationship between the two variables. The first value is the slope and the second value is the intercept of the line\n"
   ]
  },
  {
   "cell_type": "code",
   "execution_count": 10,
   "metadata": {},
   "outputs": [
    {
     "name": "stdout",
     "output_type": "stream",
     "text": [
      "0.4187284709617112\n"
     ]
    }
   ],
   "source": [
    "#calculate the sum of squared regression\n",
    "ssr = sum((df['python_skills'] - trend)**2)\n",
    "\n",
    "#calculate the sum of squared total\n",
    "sst = sum((df['python_skills'] - df['python_skills'].mean())**2)\n",
    "\n",
    "#calculate the r-squared\n",
    "r_squared = 1 - (ssr/sst)\n",
    "\n",
    "# this means that 0.41% of the variation in python skills can be explained by programming_experience\n",
    "print(r_squared)\n",
    "\n"
   ]
  }
 ],
 "metadata": {
  "kernelspec": {
   "display_name": "Python 3.9.12 ('base')",
   "language": "python",
   "name": "python3"
  },
  "language_info": {
   "codemirror_mode": {
    "name": "ipython",
    "version": 3
   },
   "file_extension": ".py",
   "mimetype": "text/x-python",
   "name": "python",
   "nbconvert_exporter": "python",
   "pygments_lexer": "ipython3",
   "version": "3.9.12"
  },
  "orig_nbformat": 4,
  "vscode": {
   "interpreter": {
    "hash": "7048a5d75593413cc54dc24206831079ac8905ffddb319c4eafd454be0ec5d5b"
   }
  }
 },
 "nbformat": 4,
 "nbformat_minor": 2
}
