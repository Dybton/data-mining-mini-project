{
 "cells": [
  {
   "cell_type": "code",
   "execution_count": 5,
   "id": "ecf1545f",
   "metadata": {},
   "outputs": [],
   "source": [
    "#Load the data, rename columns\n",
    "import math\n",
    "import pandas as pd\n",
    "\n",
    "filepath = \"./Data miners 2022 (answers).csv\"\n",
    "df = pd.read_csv(filepath)\n",
    "df.set_axis(['Time', 'Hoping','Topics','Which programme','Why course', 'First language','How long', 'Python skills', 'Math formulars', 'Shoe size', 'Height','gender'], axis='columns', inplace=True)"
   ]
  },
  {
   "cell_type": "code",
   "execution_count": 21,
   "id": "c5cebf6b",
   "metadata": {},
   "outputs": [
    {
     "ename": "ValueError",
     "evalue": "too many values to unpack (expected 4)",
     "output_type": "error",
     "traceback": [
      "\u001b[0;31m---------------------------------------------------------------------------\u001b[0m",
      "\u001b[0;31mValueError\u001b[0m                                Traceback (most recent call last)",
      "\u001b[1;32m/Users/jakobtolstrup/Desktop/Areas/SD/Data Mining/Mini Project/Assignment-1 (1).ipynb Cell 2\u001b[0m in \u001b[0;36m<cell line: 60>\u001b[0;34m()\u001b[0m\n\u001b[1;32m     <a href='vscode-notebook-cell:/Users/jakobtolstrup/Desktop/Areas/SD/Data%20Mining/Mini%20Project/Assignment-1%20%281%29.ipynb#W2sZmlsZQ%3D%3D?line=53'>54</a>\u001b[0m     meanDistance \u001b[39m=\u001b[39m df[\u001b[39m'\u001b[39m\u001b[39mdistance\u001b[39m\u001b[39m'\u001b[39m]\u001b[39m.\u001b[39mmean()\n\u001b[1;32m     <a href='vscode-notebook-cell:/Users/jakobtolstrup/Desktop/Areas/SD/Data%20Mining/Mini%20Project/Assignment-1%20%281%29.ipynb#W2sZmlsZQ%3D%3D?line=55'>56</a>\u001b[0m     \u001b[39mreturn\u001b[39;00m df,means, meanDistance\n\u001b[0;32m---> <a href='vscode-notebook-cell:/Users/jakobtolstrup/Desktop/Areas/SD/Data%20Mining/Mini%20Project/Assignment-1%20%281%29.ipynb#W2sZmlsZQ%3D%3D?line=59'>60</a>\u001b[0m \u001b[39mprint\u001b[39m(Kmeans(df, \u001b[39m10\u001b[39;49m, \u001b[39m3\u001b[39;49m))\n",
      "\u001b[1;32m/Users/jakobtolstrup/Desktop/Areas/SD/Data Mining/Mini Project/Assignment-1 (1).ipynb Cell 2\u001b[0m in \u001b[0;36mKmeans\u001b[0;34m(df, iterations, clusters)\u001b[0m\n\u001b[1;32m     <a href='vscode-notebook-cell:/Users/jakobtolstrup/Desktop/Areas/SD/Data%20Mining/Mini%20Project/Assignment-1%20%281%29.ipynb#W2sZmlsZQ%3D%3D?line=46'>47</a>\u001b[0m \u001b[39mfor\u001b[39;00m iteration \u001b[39min\u001b[39;00m \u001b[39mrange\u001b[39m(iterations): \n\u001b[1;32m     <a href='vscode-notebook-cell:/Users/jakobtolstrup/Desktop/Areas/SD/Data%20Mining/Mini%20Project/Assignment-1%20%281%29.ipynb#W2sZmlsZQ%3D%3D?line=48'>49</a>\u001b[0m     \u001b[39mfor\u001b[39;00m i \u001b[39min\u001b[39;00m \u001b[39mrange\u001b[39m(\u001b[39mlen\u001b[39m(df)):\n\u001b[0;32m---> <a href='vscode-notebook-cell:/Users/jakobtolstrup/Desktop/Areas/SD/Data%20Mining/Mini%20Project/Assignment-1%20%281%29.ipynb#W2sZmlsZQ%3D%3D?line=49'>50</a>\u001b[0m         df \u001b[39m=\u001b[39m euclideanDist(df,i,means)\n\u001b[1;32m     <a href='vscode-notebook-cell:/Users/jakobtolstrup/Desktop/Areas/SD/Data%20Mining/Mini%20Project/Assignment-1%20%281%29.ipynb#W2sZmlsZQ%3D%3D?line=51'>52</a>\u001b[0m     means \u001b[39m=\u001b[39m updateMean(df, clusters)\n\u001b[1;32m     <a href='vscode-notebook-cell:/Users/jakobtolstrup/Desktop/Areas/SD/Data%20Mining/Mini%20Project/Assignment-1%20%281%29.ipynb#W2sZmlsZQ%3D%3D?line=53'>54</a>\u001b[0m meanDistance \u001b[39m=\u001b[39m df[\u001b[39m'\u001b[39m\u001b[39mdistance\u001b[39m\u001b[39m'\u001b[39m]\u001b[39m.\u001b[39mmean()\n",
      "\u001b[1;32m/Users/jakobtolstrup/Desktop/Areas/SD/Data Mining/Mini Project/Assignment-1 (1).ipynb Cell 2\u001b[0m in \u001b[0;36meuclideanDist\u001b[0;34m(df, pointIDX, means)\u001b[0m\n\u001b[1;32m     <a href='vscode-notebook-cell:/Users/jakobtolstrup/Desktop/Areas/SD/Data%20Mining/Mini%20Project/Assignment-1%20%281%29.ipynb#W2sZmlsZQ%3D%3D?line=11'>12</a>\u001b[0m \u001b[39mdef\u001b[39;00m \u001b[39meuclideanDist\u001b[39m(df,pointIDX,means):\n\u001b[1;32m     <a href='vscode-notebook-cell:/Users/jakobtolstrup/Desktop/Areas/SD/Data%20Mining/Mini%20Project/Assignment-1%20%281%29.ipynb#W2sZmlsZQ%3D%3D?line=12'>13</a>\u001b[0m     \u001b[39m#Takes the index of a point and calculate the distance to each mean. Stores the class with the lowest distance to\u001b[39;00m\n\u001b[1;32m     <a href='vscode-notebook-cell:/Users/jakobtolstrup/Desktop/Areas/SD/Data%20Mining/Mini%20Project/Assignment-1%20%281%29.ipynb#W2sZmlsZQ%3D%3D?line=13'>14</a>\u001b[0m     \u001b[39m#the point in a variable 'cla'. Changes the points class to 'cla'. Also stores the distance in the column 'distance'\u001b[39;00m\n\u001b[1;32m     <a href='vscode-notebook-cell:/Users/jakobtolstrup/Desktop/Areas/SD/Data%20Mining/Mini%20Project/Assignment-1%20%281%29.ipynb#W2sZmlsZQ%3D%3D?line=14'>15</a>\u001b[0m     point \u001b[39m=\u001b[39m df\u001b[39m.\u001b[39miloc[[pointIDX]]\u001b[39m.\u001b[39msqueeze()\n\u001b[0;32m---> <a href='vscode-notebook-cell:/Users/jakobtolstrup/Desktop/Areas/SD/Data%20Mining/Mini%20Project/Assignment-1%20%281%29.ipynb#W2sZmlsZQ%3D%3D?line=15'>16</a>\u001b[0m     p1, p2, c1, d1 \u001b[39m=\u001b[39m point\n\u001b[1;32m     <a href='vscode-notebook-cell:/Users/jakobtolstrup/Desktop/Areas/SD/Data%20Mining/Mini%20Project/Assignment-1%20%281%29.ipynb#W2sZmlsZQ%3D%3D?line=16'>17</a>\u001b[0m     lowest \u001b[39m=\u001b[39m \u001b[39mfloat\u001b[39m(\u001b[39m'\u001b[39m\u001b[39minf\u001b[39m\u001b[39m'\u001b[39m) \u001b[39m#Set the lowest distance to positive infinity\u001b[39;00m\n\u001b[1;32m     <a href='vscode-notebook-cell:/Users/jakobtolstrup/Desktop/Areas/SD/Data%20Mining/Mini%20Project/Assignment-1%20%281%29.ipynb#W2sZmlsZQ%3D%3D?line=17'>18</a>\u001b[0m     cla \u001b[39m=\u001b[39m \u001b[39m0\u001b[39m\n",
      "\u001b[0;31mValueError\u001b[0m: too many values to unpack (expected 4)"
     ]
    }
   ],
   "source": [
    "#kmeans algorithm\n",
    "\n",
    "def initializeMeans(df, clusters):\n",
    "    #Intialize the means by randomly taking 'clusters amount' points from the dataframe.\n",
    "\n",
    "    means = df.sample(clusters)\n",
    "    for i in range(len(means)):\n",
    "        means.iat[i, 2] = i\n",
    "    \n",
    "    return means\n",
    "\n",
    "def euclideanDist(df,pointIDX,means):\n",
    "    #Takes the index of a point and calculate the distance to each mean. Stores the class with the lowest distance to\n",
    "    #the point in a variable 'cla'. Changes the points class to 'cla'. Also stores the distance in the column 'distance'\n",
    "    point = df.iloc[[pointIDX]].squeeze()\n",
    "    p1, p2, c1, d1 = point\n",
    "    lowest = float('inf') #Set the lowest distance to positive infinity\n",
    "    cla = 0\n",
    "    \n",
    "    for i in range(len(means)):\n",
    "        q1, q2, c2, d1 = means.iloc[i]\n",
    "        distance = math.sqrt(((q1-p1)**2) + ((q2-p2))**2)\n",
    "        if(distance<lowest):\n",
    "            lowest = distance\n",
    "            cla = c2\n",
    "    df.iat[pointIDX, 2] = cla\n",
    "    df.iat[pointIDX, 3] = lowest\n",
    "    \n",
    "    return df\n",
    "\n",
    "def updateMean(df, clusters):\n",
    "    #return 'clusters amount' new means in a dataframe. Terrible code\n",
    "    means = df.loc[df['class']==clusters-1].mean().to_frame().transpose() #Initialize a dataframe with the correct columns\n",
    "\n",
    "    for i in range(clusters-1): \n",
    "        mean = df.loc[df['class']==i].mean().to_frame().transpose()\n",
    "        means = pd.concat([means,mean]) #merge with the means variable.Note goes to -1 since the means already has that mean.\n",
    "\n",
    "    print(means)\n",
    "    return means\n",
    "\n",
    "\n",
    "def Kmeans(df,iterations, clusters):\n",
    "    #From the template, with some modifications to fit the above changes. Return two dataframes: means and df with updated classes.  \n",
    "    #Also returns the meanDistance to make the Cluster vs mean distance plot. \n",
    "    means = initializeMeans(df, clusters)\n",
    "\n",
    "    for iteration in range(iterations): \n",
    "        \n",
    "        for i in range(len(df)):\n",
    "            df = euclideanDist(df,i,means)\n",
    "            \n",
    "        means = updateMean(df, clusters)\n",
    "    \n",
    "    meanDistance = df['distance'].mean()\n",
    "    \n",
    "    return df,means, meanDistance\n"
   ]
  },
  {
   "cell_type": "code",
   "execution_count": 7,
   "id": "c6fd5294",
   "metadata": {},
   "outputs": [
    {
     "data": {
      "text/plain": [
       "Text(0, 0.5, 'Inches')"
      ]
     },
     "execution_count": 7,
     "metadata": {},
     "output_type": "execute_result"
    },
    {
     "data": {
      "image/png": "[encoded data removed]",
      "text/plain": [
       "<Figure size 432x288 with 1 Axes>"
      ]
     },
     "metadata": {
      "needs_background": "light"
     },
     "output_type": "display_data"
    }
   ],
   "source": [
    "import matplotlib.pyplot as plt\n",
    "#select the columns to be clusted\n",
    "dfk = df[['Height','Shoe size']].copy()\n",
    "#Remove the big outliers (7000 and 1)\n",
    "dfk.drop(dfk.index[dfk['Shoe size']<10], inplace = True)\n",
    "dfk.drop(dfk.index[dfk['Height']>400], inplace = True)\n",
    "#Make a boxplot \n",
    "fig = plt.figure()\n",
    "fig.suptitle('Height box plot', fontsize=14, fontweight='bold')\n",
    "ax = fig.add_subplot(111)\n",
    "ax.boxplot(dfk['Height'])\n",
    "ax.set_ylabel('Inches')"
   ]
  },
  {
   "cell_type": "code",
   "execution_count": null,
   "id": "ad1c7977",
   "metadata": {},
   "outputs": [],
   "source": []
  },
  {
   "cell_type": "code",
   "execution_count": 8,
   "id": "fddf1279",
   "metadata": {},
   "outputs": [],
   "source": [
    "dfk = dfk.reset_index(drop=True) # Remove the index from the file\n",
    "dfk['class'] = 1 #Assign all points to class 1\n",
    "dfk['distance'] = 0 #also create a distance column. \n"
   ]
  },
  {
   "cell_type": "code",
   "execution_count": 9,
   "id": "fa3a1c61",
   "metadata": {},
   "outputs": [],
   "source": [
    "dfkk, means, meanDistance = Kmeans(dfk,5,3) # Run the function "
   ]
  },
  {
   "cell_type": "code",
   "execution_count": 10,
   "id": "3f60619c",
   "metadata": {},
   "outputs": [
    {
     "data": {
      "text/plain": [
       "4.962447317728735"
      ]
     },
     "execution_count": 10,
     "metadata": {},
     "output_type": "execute_result"
    }
   ],
   "source": [
    "#The mean distance elbow-point plot was made by running the kmeans method with different amount of clusters.\n",
    "#For 3 clusters the meanDistance was 4.469\n",
    "meanDistance"
   ]
  },
  {
   "cell_type": "code",
   "execution_count": 11,
   "id": "2b8a9081",
   "metadata": {},
   "outputs": [
    {
     "data": {
      "image/png": "[encoded data removed]",
      "text/plain": [
       "<Figure size 432x288 with 1 Axes>"
      ]
     },
     "metadata": {
      "needs_background": "light"
     },
     "output_type": "display_data"
    }
   ],
   "source": [
    "\n",
    "plt.clf()\n",
    "#Scatter each point with a color corresponding to the class\n",
    "plt.scatter(dfkk.loc[dfkk['class'] == 0]['Shoe size'],dfkk.loc[dfkk['class'] == 0]['Height'],color='g',label='0')  \n",
    "plt.scatter(dfkk.loc[dfkk['class'] == 1]['Shoe size'],dfkk.loc[dfkk['class'] == 1]['Height'],color='b',label='1')  \n",
    "plt.scatter(dfkk.loc[dfkk['class'] == 2]['Shoe size'],dfkk.loc[dfkk['class'] == 2]['Height'],color='m',label='2')\n",
    "#Scatter each mean\n",
    "plt.scatter(means.iloc[0].loc['Shoe size'],means.iloc[0].loc['Height'],s=70,label='mean0',marker='s',color='r')                    # Visualizing the final class distribution\n",
    "plt.scatter(means.iloc[1].loc['Shoe size'],means.iloc[1].loc['Height'],s=70,label='mean1',marker='s',color='y')\n",
    "plt.scatter(means.iloc[2].loc['Shoe size'],means.iloc[2].loc['Height'],s=70,label='mean2',marker='s',color='b')\n",
    "#Label stuff\n",
    "plt.xlabel('Shoe size')\n",
    "plt.ylabel('Height')\n",
    "plt.legend()\n",
    "plt.show()"
   ]
  },
  {
   "cell_type": "code",
   "execution_count": 12,
   "id": "fae8beb7",
   "metadata": {},
   "outputs": [],
   "source": [
    "#Clean the data\n",
    "for i, j in dfk[['Height']].iterrows():\n",
    "    val = j.iloc[0]\n",
    "    if val > 130:\n",
    "        dfk.at[i,'Height'] = val/2.54 #Converting centimeters to inches\n",
    "    elif val < 9:\n",
    "        dfk.at[i,'Height'] = val*12 #Converting feet to inches "
   ]
  },
  {
   "cell_type": "code",
   "execution_count": 13,
   "id": "b66f63d2",
   "metadata": {},
   "outputs": [
    {
     "data": {
      "text/plain": [
       "<matplotlib.collections.PathCollection at 0x7fb06a89dd00>"
      ]
     },
     "execution_count": 13,
     "metadata": {},
     "output_type": "execute_result"
    },
    {
     "data": {
      "image/png": "[encoded data removed]",
      "text/plain": [
       "<Figure size 432x288 with 1 Axes>"
      ]
     },
     "metadata": {
      "needs_background": "light"
     },
     "output_type": "display_data"
    }
   ],
   "source": [
    "plt.clf()\n",
    "plt.title('Scatter plot of the Distribution of data')\n",
    "plt.scatter(dfk['Height'],dfk['Shoe size']) \n",
    "#Which shows there is still a single outlier that has to be removed.  \n"
   ]
  },
  {
   "cell_type": "code",
   "execution_count": 14,
   "id": "964de464",
   "metadata": {},
   "outputs": [
    {
     "data": {
      "text/plain": [
       "Text(0, 0.5, 'Inches')"
      ]
     },
     "execution_count": 14,
     "metadata": {},
     "output_type": "execute_result"
    },
    {
     "data": {
      "image/png": "[encoded data removed]",
      "text/plain": [
       "<Figure size 432x288 with 1 Axes>"
      ]
     },
     "metadata": {
      "needs_background": "light"
     },
     "output_type": "display_data"
    }
   ],
   "source": [
    "dfk.drop(dfk.index[dfk['Height']<20], inplace = True)\n",
    "#Simply remove it as it doesnt contain any valuable data for the next analysis. \n",
    "\n",
    "figa = plt.figure()\n",
    "figa.suptitle('Height box plot', fontsize=14, fontweight='bold')\n",
    "ax = figa.add_subplot(111)\n",
    "ax.boxplot(dfk['Height'])\n",
    "ax.set_ylabel('Inches')"
   ]
  },
  {
   "cell_type": "code",
   "execution_count": 15,
   "id": "c001839d",
   "metadata": {},
   "outputs": [
    {
     "data": {
      "text/plain": [
       "Text(0, 0.5, 'Height')"
      ]
     },
     "execution_count": 15,
     "metadata": {},
     "output_type": "execute_result"
    },
    {
     "data": {
      "image/png": "[encoded data removed]",
      "text/plain": [
       "<Figure size 432x288 with 1 Axes>"
      ]
     },
     "metadata": {
      "needs_background": "light"
     },
     "output_type": "display_data"
    }
   ],
   "source": [
    "plt.clf()\n",
    "plt.scatter(dfk['Shoe size'],dfk['Height'])\n",
    "plt.xlabel('Shoe size')\n",
    "plt.ylabel('Height')\n"
   ]
  },
  {
   "cell_type": "code",
   "execution_count": 16,
   "id": "4ffe0e09",
   "metadata": {},
   "outputs": [],
   "source": [
    "#Now comes the linear part!\n",
    "\n",
    "#calculate beta1 and beta0 by looping through each row in the dataframe.Returns beta1 and beta0\n",
    "\n",
    "def linearModel(df):\n",
    "    a = 0 #sum xi,yi\n",
    "    b = 0 #sum af xi\n",
    "    c = 0 #sum af yi\n",
    "    d = 0 #sum af xi**2\n",
    "    n = len(df.index)\n",
    "    for index, row in df.iterrows():\n",
    "        yi, xi = row\n",
    "        a += xi*yi\n",
    "        b += xi\n",
    "        c += yi\n",
    "        d += xi ** 2\n",
    "    beta1 = (a-((1/n)*(b*c)))/(d-(1/n)*(b ** 2))\n",
    "    beta0 = (c/n) - beta1 * (b/n)\n",
    "    return beta1,beta0\n",
    "\n",
    "#Make the linear prediction. Makes a column with predicted values. Also returns beta1 and beta0. \n",
    "def linearPrediction(df):\n",
    "    b1, b0 = linearModel(df)\n",
    "    df['pred'] = 0 #Makes a column and fills with zeroes. The column gets the predicted value. \n",
    "    for index, row in df.iterrows():\n",
    "        a,b,c = row\n",
    "        df.iat[index,2] = b*b1+b0\n",
    "    return (b1,b0) #Also returns beta1 and beta0. No need to return a data frame as it has been changed. \n",
    "\n",
    "#predict method which returns a predicted value\n",
    "def predict(x, model):\n",
    "    b1,b0 = model\n",
    "    return x*b1+b0\n",
    "\n",
    "\n"
   ]
  },
  {
   "cell_type": "code",
   "execution_count": 17,
   "id": "8b6b34bc",
   "metadata": {},
   "outputs": [
    {
     "name": "stdout",
     "output_type": "stream",
     "text": [
      "(1.0620758367032963, 25.375200210010256)\n"
     ]
    }
   ],
   "source": [
    "#Remove class and mean distance from the dataframe. \n",
    "lindf = dfk[['Height','Shoe size']]\n",
    "#Reset index\n",
    "lindf = lindf.reset_index(drop=True)\n",
    "\n",
    "#Make the model\n",
    "model = linearPrediction(lindf)\n",
    "print(model)"
   ]
  },
  {
   "cell_type": "code",
   "execution_count": null,
   "id": "6608e3a5",
   "metadata": {},
   "outputs": [],
   "source": []
  },
  {
   "cell_type": "code",
   "execution_count": 18,
   "id": "677bb6c9",
   "metadata": {},
   "outputs": [
    {
     "data": {
      "text/plain": [
       "<function matplotlib.pyplot.show(close=None, block=None)>"
      ]
     },
     "execution_count": 18,
     "metadata": {},
     "output_type": "execute_result"
    },
    {
     "data": {
      "image/png": "[encoded data removed]",
      "text/plain": [
       "<Figure size 432x288 with 1 Axes>"
      ]
     },
     "metadata": {
      "needs_background": "light"
     },
     "output_type": "display_data"
    }
   ],
   "source": [
    "plt.clf()\n",
    "plt.scatter(lindf['Shoe size'], lindf['Height'], color='b',label='Actual height')\n",
    "plt.plot(lindf['Shoe size'], lindf['pred'], color='r', label='Predicted height')\n",
    "plt.xlabel('Shoe size')\n",
    "plt.ylabel('Height in inches')\n",
    "plt.legend()\n",
    "plt.show\n"
   ]
  },
  {
   "cell_type": "code",
   "execution_count": 19,
   "id": "5e8ba93d",
   "metadata": {},
   "outputs": [
    {
     "data": {
      "text/plain": [
       "0.6122929267138316"
      ]
     },
     "execution_count": 19,
     "metadata": {},
     "output_type": "execute_result"
    }
   ],
   "source": [
    "import numpy as np\n",
    "#r2 value. Using numpy to calculate standard deviation\n",
    "b1, b0 = model\n",
    "r2 = (b1 / (np.std(lindf['Height'])/np.std(lindf['Shoe size'])))**2\n",
    "\n",
    "r2"
   ]
  },
  {
   "cell_type": "code",
   "execution_count": 20,
   "id": "4f0a3160",
   "metadata": {},
   "outputs": [
    {
     "data": {
      "text/plain": [
       "74.23068869836189"
      ]
     },
     "execution_count": 20,
     "metadata": {},
     "output_type": "execute_result"
    }
   ],
   "source": [
    "predict(46,model) #Almost predicted my height"
   ]
  },
  {
   "cell_type": "code",
   "execution_count": null,
   "id": "17f07694",
   "metadata": {},
   "outputs": [],
   "source": []
  }
 ],
 "metadata": {
  "kernelspec": {
   "display_name": "Python 3.9.12 ('base')",
   "language": "python",
   "name": "python3"
  },
  "language_info": {
   "codemirror_mode": {
    "name": "ipython",
    "version": 3
   },
   "file_extension": ".py",
   "mimetype": "text/x-python",
   "name": "python",
   "nbconvert_exporter": "python",
   "pygments_lexer": "ipython3",
   "version": "3.9.12"
  },
  "vscode": {
   "interpreter": {
    "hash": "7048a5d75593413cc54dc24206831079ac8905ffddb319c4eafd454be0ec5d5b"
   }
  }
 },
 "nbformat": 4,
 "nbformat_minor": 5
}
